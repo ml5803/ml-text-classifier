{
 "cells": [
  {
   "cell_type": "markdown",
   "metadata": {
    "colab_type": "text",
    "id": "VefewCTYVvqh"
   },
   "source": [
    "### Michael Li (ml5803) and Kaixuan Zhou (kz1005)\n",
    "#### Text Classification : Toxic, Information, Sports, Religious, and Advertisment\t\n"
   ]
  },
  {
   "cell_type": "markdown",
   "metadata": {
    "colab_type": "text",
    "id": "wAocDc6eXCUo"
   },
   "source": [
    "# Initialization and imports"
   ]
  },
  {
   "cell_type": "code",
   "execution_count": 0,
   "metadata": {
    "colab": {},
    "colab_type": "code",
    "id": "uKkScufG3G8M"
   },
   "outputs": [],
   "source": [
    "#Let's ignore the warnings...\n",
    "import warnings\n",
    "warnings.simplefilter(\"ignore\")"
   ]
  },
  {
   "cell_type": "code",
   "execution_count": 0,
   "metadata": {
    "colab": {},
    "colab_type": "code",
    "id": "HMixGeK_3WvY"
   },
   "outputs": [],
   "source": [
    "#Authenticate through Google Collab\n",
    "from google.colab import auth\n",
    "auth.authenticate_user()\n",
    "\n",
    "import gspread\n",
    "from oauth2client.client import GoogleCredentials\n",
    "\n",
    "gc = gspread.authorize(GoogleCredentials.get_application_default())"
   ]
  },
  {
   "cell_type": "code",
   "execution_count": 0,
   "metadata": {
    "colab": {},
    "colab_type": "code",
    "id": "BhOOmaZRXR4A"
   },
   "outputs": [],
   "source": [
    "#import libraries\n",
    "\n",
    "import pandas as pd, numpy as np\n",
    "from sklearn.linear_model import LogisticRegression\n",
    "from sklearn.feature_extraction.text import CountVectorizer, TfidfVectorizer\n",
    "\n",
    "import re, string\n",
    "\n",
    "from sklearn.metrics import recall_score\n",
    "from sklearn.metrics import f1_score\n",
    "from sklearn.metrics import precision_score\n",
    "from sklearn.metrics import accuracy_score\n",
    "from sklearn.model_selection import KFold"
   ]
  },
  {
   "cell_type": "markdown",
   "metadata": {
    "colab_type": "text",
    "id": "Pvc_g6MhX0T6"
   },
   "source": [
    "# Tweet parsing functions"
   ]
  },
  {
   "cell_type": "code",
   "execution_count": 0,
   "metadata": {
    "colab": {},
    "colab_type": "code",
    "id": "eOel4DQS7qGK"
   },
   "outputs": [],
   "source": [
    "def get_hashtags(text):\n",
    "    sentences = text.split(\".\")\n",
    "    words = [word for sentence in sentences for word in sentence.split()]\n",
    "    all_hashtags = [word[1:] for word in words if word.startswith('#')]\n",
    "    for tag in all_hashtags:\n",
    "        text = text.replace(\"#\" + tag, \"\")\n",
    "    \n",
    "    results = []\n",
    "    for i in range(len(all_hashtags)):\n",
    "        result = []\n",
    "        for j in range(len(all_hashtags[i])):\n",
    "            if not (all_hashtags[i][j] >= 'a' and all_hashtags[i][j] <= 'z') and not (all_hashtags[i][j] >= 'A' and all_hashtags[i][j] <= 'Z'):\n",
    "                pass\n",
    "            else:\n",
    "                result.append(all_hashtags[i][j])\n",
    "        results.append(''.join(result))\n",
    "    return (';'.join(results), text)\n",
    "\n",
    "def get_ats(text):\n",
    "    sentences = text.split(\".\")\n",
    "    words = [word for sentence in sentences for word in sentence.split()]\n",
    "    all_hashtags = [word[1:] for word in words if word.startswith('@')]\n",
    "    for tag in all_hashtags:\n",
    "        text = text.replace(\"#\" + tag, \"\")\n",
    "    \n",
    "    results = []\n",
    "    for i in range(len(all_hashtags)):\n",
    "        result = []\n",
    "        for j in range(len(all_hashtags[i])):\n",
    "            if not (all_hashtags[i][j] >= 'a' and all_hashtags[i][j] <= 'z') and not (all_hashtags[i][j] >= 'A' and all_hashtags[i][j] <= 'Z'):\n",
    "                pass\n",
    "            else:\n",
    "                result.append(all_hashtags[i][j])\n",
    "        results.append(''.join(result))\n",
    "    return (';'.join(results), text)\n",
    "\n",
    "def get_words(text):\n",
    "    word_start = False\n",
    "    start = 0\n",
    "    result = []\n",
    "    for index in range(len(text)):\n",
    "\t    char = text[index]\n",
    "\t    if not char.isalpha() and not word_start:\n",
    "\t        continue\n",
    "\t    else:\n",
    "\t        # we are reading a word\n",
    "\t        # update the start index\n",
    "\t        if not word_start:\n",
    "\t            word_start = True\n",
    "\t            start = index\n",
    "\t        # reach the end of a word\n",
    "\t        if not char.isalpha():\n",
    "\t            word_start = False\n",
    "\t            result.append(text[start:index])\n",
    "    \n",
    "    if word_start and start != len(text) - 1:\n",
    "        result.append(text[start:len(text)])\n",
    "    return \" \".join(result)\n",
    "\n",
    "def get_links(text):\n",
    "    urls = re.findall(r'(https?://\\S+)', text)\n",
    "    for i in range(len(urls)):\n",
    "        if urls[i][-1] == '.' or urls[i][-1] == '!' or urls[i][-1] == '?':\n",
    "            urls[i] = urls[i][:len(urls[i]) - 1]\n",
    "    for url in urls:\n",
    "        text = text.replace(url, '')\n",
    "    return (';'.join(urls), text)"
   ]
  },
  {
   "cell_type": "code",
   "execution_count": 0,
   "metadata": {
    "colab": {},
    "colab_type": "code",
    "id": "GWF3SV_Y71Aq"
   },
   "outputs": [],
   "source": [
    "def cleaned_text(data):\n",
    "    persons, text = get_ats(data)\n",
    "    hashtags, text = get_hashtags(text)\n",
    "    hyper_links, text = get_links(text)\n",
    "    cleaned_text = get_words(text)\n",
    "    return cleaned_text\n",
    "\n",
    "\n",
    "re_tok = re.compile(f'([{string.punctuation}“”¨«»®´·º½¾¿¡§£₤‘’])')\n",
    "def tokenize(s):\n",
    "    return re_tok.sub(r' \\1 ', s).split()"
   ]
  },
  {
   "cell_type": "markdown",
   "metadata": {
    "colab_type": "text",
    "id": "0A2B5jUVYDga"
   },
   "source": [
    "# Code"
   ]
  },
  {
   "cell_type": "markdown",
   "metadata": {
    "colab_type": "text",
    "id": "8FBF8dzOYMTl"
   },
   "source": [
    "Now that we have the libraries imported and helper functions written, we can start writing code.\n",
    "<br />\n",
    "Steps: <br />\n",
    "1. Load data from Google Sheets\n",
    "2. Read data into dataframe\n",
    "3. Convert tweet text into TFID vector\n",
    "4. Use TFID vector to create models\n",
    "5. Cross Validation through KFolds"
   ]
  },
  {
   "cell_type": "code",
   "execution_count": 66,
   "metadata": {
    "colab": {
     "base_uri": "https://localhost:8080/",
     "height": 34
    },
    "colab_type": "code",
    "id": "rhNElvEg3W4x",
    "outputId": "53389839-48c8-4dd4-d314-bc797a406b69"
   },
   "outputs": [
    {
     "name": "stdout",
     "output_type": "stream",
     "text": [
      "['Handle', 'TweetID', 'Tweet', 'Toxic', 'Information', 'Sports', 'Religious', 'Advertisment', 'Classification']\n"
     ]
    }
   ],
   "source": [
    "#Load data\n",
    "worksheet = gc.open('output_copy').sheet1\n",
    "records = 30000\n",
    "rows = worksheet.get_all_values()\n",
    "header = rows[0]\n",
    "data = rows[1:records]\n",
    "print(rows[0])"
   ]
  },
  {
   "cell_type": "code",
   "execution_count": 67,
   "metadata": {
    "colab": {
     "base_uri": "https://localhost:8080/",
     "height": 34
    },
    "colab_type": "code",
    "id": "V2q_0rShOGm7",
    "outputId": "d99cba6e-7d1c-4510-9650-c654a1774bf6"
   },
   "outputs": [
    {
     "name": "stdout",
     "output_type": "stream",
     "text": [
      "9610\n"
     ]
    }
   ],
   "source": [
    "balanced_data = []\n",
    "count = [0, 0, 0, 0, 0]\n",
    "for tweet in data:\n",
    "    count[int(tweet[-1])] += 1\n",
    "\n",
    "new_count = [0, 0, 0, 0, 0]\n",
    "min_count = min(count)\n",
    "for tweet in data:\n",
    "    if new_count[int(tweet[-1])] < min_count:\n",
    "        balanced_data.append(tweet)\n",
    "        new_count[int(tweet[-1])] += 1\n",
    "\n",
    "data = balanced_data\n",
    "print(len(data))"
   ]
  },
  {
   "cell_type": "code",
   "execution_count": 68,
   "metadata": {
    "colab": {
     "base_uri": "https://localhost:8080/",
     "height": 419
    },
    "colab_type": "code",
    "id": "IfjorIUZ3W7i",
    "outputId": "62299eab-d080-4da4-bc4f-d9900bf9ba03"
   },
   "outputs": [
    {
     "data": {
      "text/html": [
       "<div>\n",
       "<style scoped>\n",
       "    .dataframe tbody tr th:only-of-type {\n",
       "        vertical-align: middle;\n",
       "    }\n",
       "\n",
       "    .dataframe tbody tr th {\n",
       "        vertical-align: top;\n",
       "    }\n",
       "\n",
       "    .dataframe thead th {\n",
       "        text-align: right;\n",
       "    }\n",
       "</style>\n",
       "<table border=\"1\" class=\"dataframe\">\n",
       "  <thead>\n",
       "    <tr style=\"text-align: right;\">\n",
       "      <th></th>\n",
       "      <th>Handle</th>\n",
       "      <th>TweetID</th>\n",
       "      <th>Tweet</th>\n",
       "      <th>Toxic</th>\n",
       "      <th>Information</th>\n",
       "      <th>Sports</th>\n",
       "      <th>Religious</th>\n",
       "      <th>Advertisment</th>\n",
       "      <th>Classification</th>\n",
       "    </tr>\n",
       "  </thead>\n",
       "  <tbody>\n",
       "    <tr>\n",
       "      <th>0</th>\n",
       "      <td>ESPNCFB</td>\n",
       "      <td>1195828454316527616</td>\n",
       "      <td>RT @espn: HE SOARED FOR THIS INT 😲 https://t.c...</td>\n",
       "      <td>0</td>\n",
       "      <td>0</td>\n",
       "      <td>1</td>\n",
       "      <td>0</td>\n",
       "      <td>0</td>\n",
       "      <td>2</td>\n",
       "    </tr>\n",
       "    <tr>\n",
       "      <th>1</th>\n",
       "      <td>Forbes</td>\n",
       "      <td>1200826826043473920</td>\n",
       "      <td>Sometimes being selfish creates a win-win http...</td>\n",
       "      <td>0</td>\n",
       "      <td>1</td>\n",
       "      <td>0</td>\n",
       "      <td>0</td>\n",
       "      <td>0</td>\n",
       "      <td>1</td>\n",
       "    </tr>\n",
       "    <tr>\n",
       "      <th>2</th>\n",
       "      <td>museumofBible</td>\n",
       "      <td>1186427351313326080</td>\n",
       "      <td>RT @KaeDeeDesigns: On November 7, an ancient J...</td>\n",
       "      <td>0</td>\n",
       "      <td>0</td>\n",
       "      <td>0</td>\n",
       "      <td>1</td>\n",
       "      <td>0</td>\n",
       "      <td>3</td>\n",
       "    </tr>\n",
       "    <tr>\n",
       "      <th>3</th>\n",
       "      <td>Nike</td>\n",
       "      <td>1179717929136345088</td>\n",
       "      <td>@inasuc The motor on those motorcycles doesn't...</td>\n",
       "      <td>0</td>\n",
       "      <td>0</td>\n",
       "      <td>0</td>\n",
       "      <td>0</td>\n",
       "      <td>1</td>\n",
       "      <td>4</td>\n",
       "    </tr>\n",
       "    <tr>\n",
       "      <th>4</th>\n",
       "      <td>Xbox</td>\n",
       "      <td>1199743850354479105</td>\n",
       "      <td>@TikaaniOfficial Can we say all of it is our f...</td>\n",
       "      <td>0</td>\n",
       "      <td>0</td>\n",
       "      <td>0</td>\n",
       "      <td>0</td>\n",
       "      <td>1</td>\n",
       "      <td>4</td>\n",
       "    </tr>\n",
       "    <tr>\n",
       "      <th>...</th>\n",
       "      <td>...</td>\n",
       "      <td>...</td>\n",
       "      <td>...</td>\n",
       "      <td>...</td>\n",
       "      <td>...</td>\n",
       "      <td>...</td>\n",
       "      <td>...</td>\n",
       "      <td>...</td>\n",
       "      <td>...</td>\n",
       "    </tr>\n",
       "    <tr>\n",
       "      <th>9605</th>\n",
       "      <td>NVIDIAGeForce</td>\n",
       "      <td>1191409282832424960</td>\n",
       "      <td>RT @theScoreesports: Congrats to the TEAM USA ...</td>\n",
       "      <td>0</td>\n",
       "      <td>0</td>\n",
       "      <td>0</td>\n",
       "      <td>0</td>\n",
       "      <td>1</td>\n",
       "      <td>4</td>\n",
       "    </tr>\n",
       "    <tr>\n",
       "      <th>9606</th>\n",
       "      <td>ReviewReligions</td>\n",
       "      <td>1187457542412210176</td>\n",
       "      <td>RT @alislam: New Release: Signs of the Living ...</td>\n",
       "      <td>0</td>\n",
       "      <td>0</td>\n",
       "      <td>0</td>\n",
       "      <td>1</td>\n",
       "      <td>0</td>\n",
       "      <td>3</td>\n",
       "    </tr>\n",
       "    <tr>\n",
       "      <th>9607</th>\n",
       "      <td>BR_NBA</td>\n",
       "      <td>1200592197390753797</td>\n",
       "      <td>Brandon Clarke 🤯\\n\\nWhat a finish off the lob....</td>\n",
       "      <td>0</td>\n",
       "      <td>0</td>\n",
       "      <td>1</td>\n",
       "      <td>0</td>\n",
       "      <td>0</td>\n",
       "      <td>2</td>\n",
       "    </tr>\n",
       "    <tr>\n",
       "      <th>9608</th>\n",
       "      <td>NFLonFOX</td>\n",
       "      <td>1198802138601639937</td>\n",
       "      <td>\"We don't flinch.\" 🔒\\n\\n@ErinAndrews caught up...</td>\n",
       "      <td>0</td>\n",
       "      <td>0</td>\n",
       "      <td>1</td>\n",
       "      <td>0</td>\n",
       "      <td>0</td>\n",
       "      <td>2</td>\n",
       "    </tr>\n",
       "    <tr>\n",
       "      <th>9609</th>\n",
       "      <td>OfficialNOI</td>\n",
       "      <td>1182838840618295298</td>\n",
       "      <td>RT @MosqueMaryam: The Honorable Minister @Loui...</td>\n",
       "      <td>0</td>\n",
       "      <td>0</td>\n",
       "      <td>0</td>\n",
       "      <td>1</td>\n",
       "      <td>0</td>\n",
       "      <td>3</td>\n",
       "    </tr>\n",
       "  </tbody>\n",
       "</table>\n",
       "<p>9610 rows × 9 columns</p>\n",
       "</div>"
      ],
      "text/plain": [
       "               Handle              TweetID  ... Advertisment Classification\n",
       "0             ESPNCFB  1195828454316527616  ...            0              2\n",
       "1              Forbes  1200826826043473920  ...            0              1\n",
       "2       museumofBible  1186427351313326080  ...            0              3\n",
       "3                Nike  1179717929136345088  ...            1              4\n",
       "4                Xbox  1199743850354479105  ...            1              4\n",
       "...               ...                  ...  ...          ...            ...\n",
       "9605    NVIDIAGeForce  1191409282832424960  ...            1              4\n",
       "9606  ReviewReligions  1187457542412210176  ...            0              3\n",
       "9607           BR_NBA  1200592197390753797  ...            0              2\n",
       "9608         NFLonFOX  1198802138601639937  ...            0              2\n",
       "9609      OfficialNOI  1182838840618295298  ...            0              3\n",
       "\n",
       "[9610 rows x 9 columns]"
      ]
     },
     "execution_count": 68,
     "metadata": {
      "tags": []
     },
     "output_type": "execute_result"
    }
   ],
   "source": [
    "#Read data into dataframe\n",
    "\n",
    "df = pd.DataFrame(data, columns = header) \n",
    "#shuffle df\n",
    "df = df.sample(frac= 1).reset_index(drop=True)\n",
    "np_arr = np.array(df)\n",
    "\n",
    "df"
   ]
  },
  {
   "cell_type": "code",
   "execution_count": 69,
   "metadata": {
    "colab": {
     "base_uri": "https://localhost:8080/",
     "height": 173
    },
    "colab_type": "code",
    "id": "ST67cSwu3XAX",
    "outputId": "6085119a-f754-43f6-fc86-24233800a6a3"
   },
   "outputs": [
    {
     "data": {
      "text/html": [
       "<div>\n",
       "<style scoped>\n",
       "    .dataframe tbody tr th:only-of-type {\n",
       "        vertical-align: middle;\n",
       "    }\n",
       "\n",
       "    .dataframe tbody tr th {\n",
       "        vertical-align: top;\n",
       "    }\n",
       "\n",
       "    .dataframe thead th {\n",
       "        text-align: right;\n",
       "    }\n",
       "</style>\n",
       "<table border=\"1\" class=\"dataframe\">\n",
       "  <thead>\n",
       "    <tr style=\"text-align: right;\">\n",
       "      <th></th>\n",
       "      <th>Handle</th>\n",
       "      <th>TweetID</th>\n",
       "      <th>Tweet</th>\n",
       "      <th>Toxic</th>\n",
       "      <th>Information</th>\n",
       "      <th>Sports</th>\n",
       "      <th>Religious</th>\n",
       "      <th>Advertisment</th>\n",
       "      <th>Classification</th>\n",
       "    </tr>\n",
       "  </thead>\n",
       "  <tbody>\n",
       "    <tr>\n",
       "      <th>count</th>\n",
       "      <td>9610</td>\n",
       "      <td>9610</td>\n",
       "      <td>9610</td>\n",
       "      <td>9610</td>\n",
       "      <td>9610</td>\n",
       "      <td>9610</td>\n",
       "      <td>9610</td>\n",
       "      <td>9610</td>\n",
       "      <td>9610</td>\n",
       "    </tr>\n",
       "    <tr>\n",
       "      <th>unique</th>\n",
       "      <td>42</td>\n",
       "      <td>7690</td>\n",
       "      <td>9561</td>\n",
       "      <td>2</td>\n",
       "      <td>2</td>\n",
       "      <td>2</td>\n",
       "      <td>2</td>\n",
       "      <td>2</td>\n",
       "      <td>5</td>\n",
       "    </tr>\n",
       "    <tr>\n",
       "      <th>top</th>\n",
       "      <td></td>\n",
       "      <td></td>\n",
       "      <td>Here are some out-of-the box ideas to get stud...</td>\n",
       "      <td>0</td>\n",
       "      <td>0</td>\n",
       "      <td>0</td>\n",
       "      <td>0</td>\n",
       "      <td>0</td>\n",
       "      <td>4</td>\n",
       "    </tr>\n",
       "    <tr>\n",
       "      <th>freq</th>\n",
       "      <td>1021</td>\n",
       "      <td>1021</td>\n",
       "      <td>5</td>\n",
       "      <td>7688</td>\n",
       "      <td>7688</td>\n",
       "      <td>7688</td>\n",
       "      <td>7688</td>\n",
       "      <td>7688</td>\n",
       "      <td>1922</td>\n",
       "    </tr>\n",
       "  </tbody>\n",
       "</table>\n",
       "</div>"
      ],
      "text/plain": [
       "       Handle TweetID  ... Advertisment Classification\n",
       "count    9610    9610  ...         9610           9610\n",
       "unique     42    7690  ...            2              5\n",
       "top                    ...            0              4\n",
       "freq     1021    1021  ...         7688           1922\n",
       "\n",
       "[4 rows x 9 columns]"
      ]
     },
     "execution_count": 69,
     "metadata": {
      "tags": []
     },
     "output_type": "execute_result"
    }
   ],
   "source": [
    "df.describe()"
   ]
  },
  {
   "cell_type": "code",
   "execution_count": 70,
   "metadata": {
    "colab": {
     "base_uri": "https://localhost:8080/",
     "height": 34
    },
    "colab_type": "code",
    "id": "dAomWbRY3W_T",
    "outputId": "8ebdae43-1b1b-4c8f-9461-a9a0bae3e82e"
   },
   "outputs": [
    {
     "name": "stdout",
     "output_type": "stream",
     "text": [
      "(6406, 9) (3204, 9)\n"
     ]
    }
   ],
   "source": [
    "#data split into train and test\n",
    "train_ind = int(len(data) // 1.5)\n",
    "df_train = df[:train_ind]\n",
    "df_test = df[train_ind:]\n",
    "print(df_train.shape, df_test.shape)"
   ]
  },
  {
   "cell_type": "code",
   "execution_count": 0,
   "metadata": {
    "colab": {},
    "colab_type": "code",
    "id": "FNd9c34TQHmb"
   },
   "outputs": [],
   "source": [
    "#Convert tweet to TFID vector\n",
    "vec = TfidfVectorizer(ngram_range=(1,2), tokenizer=tokenize,\n",
    "               min_df=3, max_df=0.9, strip_accents='unicode', use_idf=1,\n",
    "               smooth_idf=1, sublinear_tf=1, stop_words='english')\n",
    "trn_term_doc = vec.fit_transform(df_train[\"Tweet\"])\n",
    "test_term_doc = vec.transform(df_test[\"Tweet\"])"
   ]
  },
  {
   "cell_type": "code",
   "execution_count": 0,
   "metadata": {
    "colab": {},
    "colab_type": "code",
    "id": "gnB0jgGDQ0yC"
   },
   "outputs": [],
   "source": [
    "def pr(y_i, y):\n",
    "    p = x[y==y_i].sum(0)\n",
    "    return (p+1) / ((y==y_i).sum()+1)\n",
    "    \n",
    "x = trn_term_doc\n",
    "test_x = test_term_doc"
   ]
  },
  {
   "cell_type": "code",
   "execution_count": 0,
   "metadata": {
    "colab": {},
    "colab_type": "code",
    "id": "5wZrAim9Q2B6"
   },
   "outputs": [],
   "source": [
    "def get_mdl(y):\n",
    "    y = y.values\n",
    "    y = np.array([int(i) for i in y])\n",
    "    r = np.log(pr(1,y) / pr(0,y))\n",
    "    m = LogisticRegression(C=4, dual=True)\n",
    "    x_nb = x.multiply(r)\n",
    "    return m.fit(x_nb, y), r"
   ]
  },
  {
   "cell_type": "code",
   "execution_count": 74,
   "metadata": {
    "colab": {
     "base_uri": "https://localhost:8080/",
     "height": 102
    },
    "colab_type": "code",
    "id": "ab-wpKFuQ69z",
    "outputId": "a3326589-9e31-401e-ed86-f08ef9c8603e"
   },
   "outputs": [
    {
     "name": "stdout",
     "output_type": "stream",
     "text": [
      "fit Toxic\n",
      "fit Information\n",
      "fit Sports\n",
      "fit Religious\n",
      "fit Advertisment\n"
     ]
    }
   ],
   "source": [
    "#Create models for each class\n",
    "label_cols = ['Toxic', 'Information', 'Sports', 'Religious', 'Advertisment']\n",
    "preds = np.zeros((len(df_test), len(label_cols)))\n",
    "models = {}\n",
    "for i, j in enumerate(label_cols):\n",
    "    print('fit', j)\n",
    "    m,r = get_mdl(df_train[j])\n",
    "    models[j] = (m, r)\n",
    "    preds[:,i] = m.predict_proba(test_x.multiply(r))[:,1]"
   ]
  },
  {
   "cell_type": "code",
   "execution_count": 75,
   "metadata": {
    "colab": {
     "base_uri": "https://localhost:8080/",
     "height": 612
    },
    "colab_type": "code",
    "id": "vraXOoJPUnlI",
    "outputId": "c49e4600-b563-45c2-fbd5-64a79c910b87"
   },
   "outputs": [
    {
     "data": {
      "text/plain": [
       "{'Advertisment': (LogisticRegression(C=4, class_weight=None, dual=True, fit_intercept=True,\n",
       "                     intercept_scaling=1, l1_ratio=None, max_iter=100,\n",
       "                     multi_class='warn', n_jobs=None, penalty='l2',\n",
       "                     random_state=None, solver='warn', tol=0.0001, verbose=0,\n",
       "                     warm_start=False),\n",
       "  matrix([[ 0.77240749, -1.40170333, -0.5812276 , ...,  0.33689385,\n",
       "            0.54977302,  0.54977302]])),\n",
       " 'Information': (LogisticRegression(C=4, class_weight=None, dual=True, fit_intercept=True,\n",
       "                     intercept_scaling=1, l1_ratio=None, max_iter=100,\n",
       "                     multi_class='warn', n_jobs=None, penalty='l2',\n",
       "                     random_state=None, solver='warn', tol=0.0001, verbose=0,\n",
       "                     warm_start=False),\n",
       "  matrix([[-0.78893625, -1.51967956, -0.83353182, ...,  0.06241355,\n",
       "            0.55860347,  0.55860347]])),\n",
       " 'Religious': (LogisticRegression(C=4, class_weight=None, dual=True, fit_intercept=True,\n",
       "                     intercept_scaling=1, l1_ratio=None, max_iter=100,\n",
       "                     multi_class='warn', n_jobs=None, penalty='l2',\n",
       "                     random_state=None, solver='warn', tol=0.0001, verbose=0,\n",
       "                     warm_start=False),\n",
       "  matrix([[-0.14901224, -1.3953782 , -0.46951901, ...,  0.02352   ,\n",
       "            0.51970992,  0.51970992]])),\n",
       " 'Sports': (LogisticRegression(C=4, class_weight=None, dual=True, fit_intercept=True,\n",
       "                     intercept_scaling=1, l1_ratio=None, max_iter=100,\n",
       "                     multi_class='warn', n_jobs=None, penalty='l2',\n",
       "                     random_state=None, solver='warn', tol=0.0001, verbose=0,\n",
       "                     warm_start=False),\n",
       "  matrix([[-0.39163625,  0.04621131, -0.22045591, ...,  2.42235036,\n",
       "            2.20947119,  2.20947119]])),\n",
       " 'Toxic': (LogisticRegression(C=4, class_weight=None, dual=True, fit_intercept=True,\n",
       "                     intercept_scaling=1, l1_ratio=None, max_iter=100,\n",
       "                     multi_class='warn', n_jobs=None, penalty='l2',\n",
       "                     random_state=None, solver='warn', tol=0.0001, verbose=0,\n",
       "                     warm_start=False),\n",
       "  matrix([[0.28081338, 2.40335305, 2.58012357, ..., 0.06931441, 0.56550432,\n",
       "           0.56550432]]))}"
      ]
     },
     "execution_count": 75,
     "metadata": {
      "tags": []
     },
     "output_type": "execute_result"
    }
   ],
   "source": [
    "models "
   ]
  },
  {
   "cell_type": "code",
   "execution_count": 76,
   "metadata": {
    "colab": {
     "base_uri": "https://localhost:8080/",
     "height": 1000
    },
    "colab_type": "code",
    "id": "pQH8j9BdYKHQ",
    "outputId": "accf5254-d27f-4946-ad39-3e615aec9963"
   },
   "outputs": [
    {
     "name": "stdout",
     "output_type": "stream",
     "text": [
      "Iteration: 1\n",
      "Toxic\n",
      "\t Recall: 0.9776674937965261\n",
      "\t F1 Score: 0.9856336540250352\n",
      "\t Precision: 0.9941444372153545\n",
      "\t Accuracy: 0.9906347554630593\n",
      "Information\n",
      "\t Recall: 0.8642245204450816\n",
      "\t F1 Score: 0.8961346310448217\n",
      "\t Precision: 0.9409962145006117\n",
      "\t Accuracy: 0.9396462018730489\n",
      "Sports\n",
      "\t Recall: 0.9126517157488676\n",
      "\t F1 Score: 0.9351967362352069\n",
      "\t Precision: 0.9630669391695199\n",
      "\t Accuracy: 0.9604578563995838\n",
      "Religious\n",
      "\t Recall: 0.907047779037133\n",
      "\t F1 Score: 0.9334174646772078\n",
      "\t Precision: 0.9672754062620407\n",
      "\t Accuracy: 0.9599375650364204\n",
      "Advertisment\n",
      "\t Recall: 0.9023534897634193\n",
      "\t F1 Score: 0.9264071932341165\n",
      "\t Precision: 0.956387057628323\n",
      "\t Accuracy: 0.9573361082206036\n",
      "Iteration: 2\n",
      "Toxic\n",
      "\t Recall: 0.9817415730337078\n",
      "\t F1 Score: 0.9886342287756072\n",
      "\t Precision: 0.9958834705509816\n",
      "\t Accuracy: 0.9932362122788762\n",
      "Information\n",
      "\t Recall: 0.8975020896290105\n",
      "\t F1 Score: 0.9138670692966053\n",
      "\t Precision: 0.9333283685395621\n",
      "\t Accuracy: 0.9443288241415192\n",
      "Sports\n",
      "\t Recall: 0.9268929367511842\n",
      "\t F1 Score: 0.9442313586171002\n",
      "\t Precision: 0.9643839508979313\n",
      "\t Accuracy: 0.9667013527575442\n",
      "Religious\n",
      "\t Recall: 0.8839425899378797\n",
      "\t F1 Score: 0.9132530875114215\n",
      "\t Precision: 0.9525640097201435\n",
      "\t Accuracy: 0.9490114464099896\n",
      "Advertisment\n",
      "\t Recall: 0.9047926531783612\n",
      "\t F1 Score: 0.9292389188112209\n",
      "\t Precision: 0.9604680581910183\n",
      "\t Accuracy: 0.9557752341311134\n",
      "Iteration: 3\n",
      "Toxic\n",
      "\t Recall: 0.9640957446808511\n",
      "\t F1 Score: 0.9770509999889443\n",
      "\t Precision: 0.9914176732358551\n",
      "\t Accuracy: 0.985952133194589\n",
      "Information\n",
      "\t Recall: 0.8771533005211349\n",
      "\t F1 Score: 0.904633202379354\n",
      "\t Precision: 0.9403946923597024\n",
      "\t Accuracy: 0.9469302809573361\n",
      "Sports\n",
      "\t Recall: 0.9206852422295335\n",
      "\t F1 Score: 0.9397534132070214\n",
      "\t Precision: 0.9625378527972188\n",
      "\t Accuracy: 0.9625390218522373\n",
      "Religious\n",
      "\t Recall: 0.8985246350722029\n",
      "\t F1 Score: 0.9225790523463946\n",
      "\t Precision: 0.9533379334138348\n",
      "\t Accuracy: 0.9516129032258065\n",
      "Advertisment\n",
      "\t Recall: 0.9063170500061939\n",
      "\t F1 Score: 0.9294212690951822\n",
      "\t Precision: 0.9584001848549393\n",
      "\t Accuracy: 0.9562955254942768\n",
      "Iteration: 4\n",
      "Toxic\n",
      "\t Recall: 0.9768877504497111\n",
      "\t F1 Score: 0.9846167650216964\n",
      "\t Precision: 0.9928482331332071\n",
      "\t Accuracy: 0.9901144640998959\n",
      "Information\n",
      "\t Recall: 0.8948821495499776\n",
      "\t F1 Score: 0.9103224921092357\n",
      "\t Precision: 0.9281907738452997\n",
      "\t Accuracy: 0.9469302809573361\n",
      "Sports\n",
      "\t Recall: 0.9096544239244728\n",
      "\t F1 Score: 0.9321397837249654\n",
      "\t Precision: 0.9603430804863926\n",
      "\t Accuracy: 0.9568158168574402\n",
      "Religious\n",
      "\t Recall: 0.8872383405297578\n",
      "\t F1 Score: 0.915569014950707\n",
      "\t Precision: 0.9532784494853161\n",
      "\t Accuracy: 0.9495317377731529\n",
      "Advertisment\n",
      "\t Recall: 0.923526569707571\n",
      "\t F1 Score: 0.9377868471669633\n",
      "\t Precision: 0.9539221411468108\n",
      "\t Accuracy: 0.9630593132154006\n",
      "Iteration: 5\n",
      "Toxic\n",
      "\t Recall: 0.9869181005735628\n",
      "\t F1 Score: 0.991111111111111\n",
      "\t Precision: 0.9954456540732937\n",
      "\t Accuracy: 0.9942767950052029\n",
      "Information\n",
      "\t Recall: 0.8895753806459066\n",
      "\t F1 Score: 0.9085102340764055\n",
      "\t Precision: 0.9317648314127187\n",
      "\t Accuracy: 0.941207075962539\n",
      "Sports\n",
      "\t Recall: 0.9111164461516574\n",
      "\t F1 Score: 0.9332759112472228\n",
      "\t Precision: 0.9602225672877847\n",
      "\t Accuracy: 0.9614984391259105\n",
      "Religious\n",
      "\t Recall: 0.8753627013663438\n",
      "\t F1 Score: 0.9048804629206639\n",
      "\t Precision: 0.9444501161543029\n",
      "\t Accuracy: 0.9458896982310093\n",
      "Advertisment\n",
      "\t Recall: 0.9044734560490864\n",
      "\t F1 Score: 0.9228593316197167\n",
      "\t Precision: 0.9448721428361844\n",
      "\t Accuracy: 0.9521331945889698\n"
     ]
    }
   ],
   "source": [
    "#split into parts for cross validation\n",
    "accuracy_scores = {}\n",
    "for label in label_cols:\n",
    "    accuracy_scores[label] = []\n",
    "\n",
    "kf = KFold(n_splits=5)\n",
    "iteration = 1\n",
    "for train_index, test_index in kf.split(df):\n",
    "    print(\"Iteration:\", iteration)\n",
    "    iteration += 1\n",
    "    for model in models.keys():\n",
    "        print(model)\n",
    "        x_train, x_test = df[\"Tweet\"][train_index], df[\"Tweet\"][test_index]\n",
    "        y_train, y_test = df[model][train_index], df[model][test_index]\n",
    "        logreg = LogisticRegression(C=12.0)\n",
    "        # logreg = models[model][0]\n",
    "        logreg.fit(vec.transform(x_train),y_train)\n",
    "        y_pred = logreg.predict(vec.transform(x_test))\n",
    "\n",
    "        #scores\n",
    "        recall = recall_score(y_test, y_pred, average='macro')\n",
    "        f1 = f1_score(y_test, y_pred, average='macro')\n",
    "        precision = precision_score(y_test, y_pred, average='macro')\n",
    "        accuracy = accuracy_score(y_test, y_pred)\n",
    "        accuracy_scores[model].append(accuracy)\n",
    "        print(\"\\t Recall:\", recall)\n",
    "        print(\"\\t F1 Score:\", f1)\n",
    "        print(\"\\t Precision:\", precision)\n",
    "        print(\"\\t Accuracy:\", accuracy)\n",
    "  "
   ]
  },
  {
   "cell_type": "code",
   "execution_count": 77,
   "metadata": {
    "colab": {
     "base_uri": "https://localhost:8080/",
     "height": 102
    },
    "colab_type": "code",
    "id": "caWHFT9SfKLB",
    "outputId": "f739a693-7753-47ae-f694-6681eb3094cb"
   },
   "outputs": [
    {
     "name": "stdout",
     "output_type": "stream",
     "text": [
      "Toxic : 0.9908428720083247\n",
      "Information : 0.943808532778356\n",
      "Sports : 0.9616024973985432\n",
      "Religious : 0.9511966701352756\n",
      "Advertisment : 0.9569198751300728\n"
     ]
    }
   ],
   "source": [
    "#Evaluation\n",
    "for score in accuracy_scores:\n",
    "    print(score, \":\", np.average(accuracy_scores[score]))"
   ]
  },
  {
   "cell_type": "markdown",
   "metadata": {
    "colab_type": "text",
    "id": "zY2dsB5Jfrua"
   },
   "source": [
    "# User Testing\n",
    "\n",
    "Test your own sentences"
   ]
  },
  {
   "cell_type": "code",
   "execution_count": 0,
   "metadata": {
    "colab": {},
    "colab_type": "code",
    "id": "1s8d-F644mIm"
   },
   "outputs": [],
   "source": [
    "def test(tweet):\n",
    "    test_data = vec.transform([tweet])\n",
    "    json = {}\n",
    "    #model predicting: 1 is in that category, 0 is not\n",
    "    for model in models.keys():\n",
    "        result = models[model][0].predict(test_data.multiply(models[model][1]))\n",
    "        json[model] = result[0]\n",
    "    return json"
   ]
  },
  {
   "cell_type": "markdown",
   "metadata": {
    "colab_type": "text",
    "id": "kxjSfpCYVYE6"
   },
   "source": [
    "Some sentences have been provided."
   ]
  },
  {
   "cell_type": "code",
   "execution_count": 79,
   "metadata": {
    "colab": {
     "base_uri": "https://localhost:8080/",
     "height": 34
    },
    "colab_type": "code",
    "id": "4kQZ8BO94mPI",
    "outputId": "407b77b2-117c-4753-922c-186931ee6181"
   },
   "outputs": [
    {
     "data": {
      "text/plain": [
       "{'Advertisment': 0, 'Information': 0, 'Religious': 0, 'Sports': 1, 'Toxic': 0}"
      ]
     },
     "execution_count": 79,
     "metadata": {
      "tags": []
     },
     "output_type": "execute_result"
    }
   ],
   "source": [
    "test(\"The Knicks scored 3-1 in the most recent game\")"
   ]
  },
  {
   "cell_type": "code",
   "execution_count": 80,
   "metadata": {
    "colab": {
     "base_uri": "https://localhost:8080/",
     "height": 34
    },
    "colab_type": "code",
    "id": "PRnLBVIW4mV9",
    "outputId": "5ed83b93-f03f-43ad-a3ed-06e2b33310f5"
   },
   "outputs": [
    {
     "data": {
      "text/plain": [
       "{'Advertisment': 0, 'Information': 0, 'Religious': 0, 'Sports': 0, 'Toxic': 1}"
      ]
     },
     "execution_count": 80,
     "metadata": {
      "tags": []
     },
     "output_type": "execute_result"
    }
   ],
   "source": [
    "test(\"Fuck you stupid bitch\")"
   ]
  },
  {
   "cell_type": "code",
   "execution_count": 81,
   "metadata": {
    "colab": {
     "base_uri": "https://localhost:8080/",
     "height": 34
    },
    "colab_type": "code",
    "id": "J3-RznSM9q95",
    "outputId": "b9e17d76-cc43-46de-f513-d8cc994586d5"
   },
   "outputs": [
    {
     "data": {
      "text/plain": [
       "{'Advertisment': 0, 'Information': 0, 'Religious': 0, 'Sports': 0, 'Toxic': 1}"
      ]
     },
     "execution_count": 81,
     "metadata": {
      "tags": []
     },
     "output_type": "execute_result"
    }
   ],
   "source": [
    "test(\"fuck you\")"
   ]
  },
  {
   "cell_type": "code",
   "execution_count": 82,
   "metadata": {
    "colab": {
     "base_uri": "https://localhost:8080/",
     "height": 34
    },
    "colab_type": "code",
    "id": "hds66qqE5rNY",
    "outputId": "d36eb883-10fc-4e23-fc85-c2c961764d73"
   },
   "outputs": [
    {
     "data": {
      "text/plain": [
       "{'Advertisment': 0, 'Information': 0, 'Religious': 0, 'Sports': 0, 'Toxic': 1}"
      ]
     },
     "execution_count": 82,
     "metadata": {
      "tags": []
     },
     "output_type": "execute_result"
    }
   ],
   "source": [
    "test(\"fuck, just chill. Everything is ok\")"
   ]
  },
  {
   "cell_type": "code",
   "execution_count": 83,
   "metadata": {
    "colab": {
     "base_uri": "https://localhost:8080/",
     "height": 34
    },
    "colab_type": "code",
    "id": "ceccxk_u9zSQ",
    "outputId": "c1eeb5f3-29e8-4b86-ffec-10f93b337bc9"
   },
   "outputs": [
    {
     "data": {
      "text/plain": [
       "{'Advertisment': 0, 'Information': 0, 'Religious': 0, 'Sports': 0, 'Toxic': 0}"
      ]
     },
     "execution_count": 83,
     "metadata": {
      "tags": []
     },
     "output_type": "execute_result"
    }
   ],
   "source": [
    "test(\"we can win this game. Just follow me and throw the ball to that gate\")"
   ]
  },
  {
   "cell_type": "code",
   "execution_count": 84,
   "metadata": {
    "colab": {
     "base_uri": "https://localhost:8080/",
     "height": 34
    },
    "colab_type": "code",
    "id": "xFCAOtqd95z2",
    "outputId": "fed2171a-907a-4f16-9b11-8ece5510cdc6"
   },
   "outputs": [
    {
     "data": {
      "text/plain": [
       "{'Advertisment': 0, 'Information': 0, 'Religious': 0, 'Sports': 0, 'Toxic': 0}"
      ]
     },
     "execution_count": 84,
     "metadata": {
      "tags": []
     },
     "output_type": "execute_result"
    }
   ],
   "source": [
    "test(\"mom, i want to eat ice cream\")"
   ]
  },
  {
   "cell_type": "code",
   "execution_count": 85,
   "metadata": {
    "colab": {
     "base_uri": "https://localhost:8080/",
     "height": 34
    },
    "colab_type": "code",
    "id": "GGp3AB8EcQGY",
    "outputId": "58d51297-237c-4b5f-caf8-ed87a6cd1550"
   },
   "outputs": [
    {
     "data": {
      "text/plain": [
       "{'Advertisment': 0, 'Information': 1, 'Religious': 0, 'Sports': 0, 'Toxic': 0}"
      ]
     },
     "execution_count": 85,
     "metadata": {
      "tags": []
     },
     "output_type": "execute_result"
    }
   ],
   "source": [
    "test(\"Theory says black holes like this shouldn’t get so big.\")"
   ]
  },
  {
   "cell_type": "code",
   "execution_count": 86,
   "metadata": {
    "colab": {
     "base_uri": "https://localhost:8080/",
     "height": 34
    },
    "colab_type": "code",
    "id": "p5RqCSqmc_vg",
    "outputId": "77a4d255-bbc1-4bf4-db69-c152d6ea2aaf"
   },
   "outputs": [
    {
     "data": {
      "text/plain": [
       "{'Advertisment': 0, 'Information': 0, 'Religious': 0, 'Sports': 0, 'Toxic': 0}"
      ]
     },
     "execution_count": 86,
     "metadata": {
      "tags": []
     },
     "output_type": "execute_result"
    }
   ],
   "source": [
    "test(\"Being a member of E-AHPBA brings many benefits including access to myHPB educational content covering over 50 key areas\")"
   ]
  }
 ],
 "metadata": {
  "accelerator": "GPU",
  "colab": {
   "collapsed_sections": [],
   "name": "ML_Text_Classifer_LogisticRegressiob.ipynb",
   "provenance": []
  },
  "kernelspec": {
   "display_name": "Python 3",
   "language": "python",
   "name": "python3"
  },
  "language_info": {
   "codemirror_mode": {
    "name": "ipython",
    "version": 3
   },
   "file_extension": ".py",
   "mimetype": "text/x-python",
   "name": "python",
   "nbconvert_exporter": "python",
   "pygments_lexer": "ipython3",
   "version": "3.7.2"
  }
 },
 "nbformat": 4,
 "nbformat_minor": 1
}
