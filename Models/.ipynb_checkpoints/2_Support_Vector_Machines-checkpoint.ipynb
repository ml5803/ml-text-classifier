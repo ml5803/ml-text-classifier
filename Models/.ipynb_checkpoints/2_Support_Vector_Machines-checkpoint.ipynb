{
 "cells": [
  {
   "cell_type": "markdown",
   "metadata": {
    "colab_type": "text",
    "id": "xeRG68MOd7BT"
   },
   "source": [
    "Michael Li (ml5803) and Kaixuan Zhou (kz1005)\n",
    "\n",
    "Support Vector Machine\n",
    "\n",
    "Text Classification : Toxic, Information, Sports, Religious, and Advertisement"
   ]
  },
  {
   "cell_type": "markdown",
   "metadata": {
    "colab_type": "text",
    "id": "zP-1K5Zbd5Q3"
   },
   "source": [
    "Step 1: Imports and Authentication"
   ]
  },
  {
   "cell_type": "code",
   "execution_count": 0,
   "metadata": {
    "colab": {},
    "colab_type": "code",
    "id": "QjgOwEpf-4u8"
   },
   "outputs": [],
   "source": [
    "import warnings\n",
    "warnings.simplefilter(\"ignore\")"
   ]
  },
  {
   "cell_type": "code",
   "execution_count": 0,
   "metadata": {
    "colab": {},
    "colab_type": "code",
    "id": "yQDYo8by-oQV"
   },
   "outputs": [],
   "source": [
    "from google.colab import auth\n",
    "auth.authenticate_user()\n",
    "\n",
    "import gspread\n",
    "from oauth2client.client import GoogleCredentials\n",
    "\n",
    "gc = gspread.authorize(GoogleCredentials.get_application_default())"
   ]
  },
  {
   "cell_type": "code",
   "execution_count": 0,
   "metadata": {
    "colab": {},
    "colab_type": "code",
    "id": "rikJi0xHAAxx"
   },
   "outputs": [],
   "source": [
    "from sklearn.metrics import recall_score\n",
    "from sklearn.metrics import f1_score\n",
    "from sklearn.metrics import precision_score\n",
    "from sklearn.metrics import accuracy_score\n",
    "from sklearn.model_selection import KFold"
   ]
  },
  {
   "cell_type": "markdown",
   "metadata": {
    "colab_type": "text",
    "id": "3RgKD8Y8eQSw"
   },
   "source": [
    "Step 2: Import Data\n"
   ]
  },
  {
   "cell_type": "code",
   "execution_count": 4,
   "metadata": {
    "colab": {
     "base_uri": "https://localhost:8080/",
     "height": 68
    },
    "colab_type": "code",
    "executionInfo": {
     "elapsed": 97366,
     "status": "ok",
     "timestamp": 1575857439543,
     "user": {
      "displayName": "Michael Li",
      "photoUrl": "",
      "userId": "00224213784858372686"
     },
     "user_tz": 300
    },
    "id": "Gk6goyu4-8TW",
    "outputId": "bbbb9112-5f11-4f3a-bd65-19461dd3b8c8"
   },
   "outputs": [
    {
     "name": "stdout",
     "output_type": "stream",
     "text": [
      "Total number of data: 21115\n",
      "data header:\n",
      "['Handle', 'TweetID', 'Tweet', 'Toxic', 'Information', 'Sports', 'Religious', 'Advertisement', 'Classification']\n"
     ]
    }
   ],
   "source": [
    "#import libraries\n",
    "import pandas as pd, numpy as np\n",
    "from sklearn.linear_model import LogisticRegression\n",
    "from sklearn.feature_extraction.text import CountVectorizer, TfidfVectorizer\n",
    "\n",
    "worksheet = gc.open('output_copy').sheet1\n",
    "records = 30000\n",
    "rows = worksheet.get_all_values()\n",
    "header = rows[0]\n",
    "\n",
    "data = rows[1:records]\n",
    "\n",
    "print(\"Total number of data:\", len(data))\n",
    "print(\"data header:\")\n",
    "print(rows[0])"
   ]
  },
  {
   "cell_type": "code",
   "execution_count": 0,
   "metadata": {
    "colab": {},
    "colab_type": "code",
    "id": "6YbDu7_wekwE"
   },
   "outputs": [],
   "source": [
    "# # Uncomment for Balanced Data\n",
    "# balanced_data = []\n",
    "# count = [0, 0, 0, 0, 0]\n",
    "# for tweet in data:\n",
    "#     count[int(tweet[-1])] += 1\n",
    "\n",
    "# new_count = [0, 0, 0, 0, 0]\n",
    "# min_count = min(count)\n",
    "# for tweet in data:\n",
    "#     if new_count[int(tweet[-1])] < min_count:\n",
    "#         balanced_data.append(tweet)\n",
    "#         new_count[int(tweet[-1])] += 1\n",
    "\n",
    "# data = balanced_data\n",
    "# print(\"Total number of data:\", len(data))"
   ]
  },
  {
   "cell_type": "code",
   "execution_count": 0,
   "metadata": {
    "colab": {},
    "colab_type": "code",
    "id": "KHpoG6le_CbO"
   },
   "outputs": [],
   "source": [
    "#shuffle df\n",
    "df = pd.DataFrame(data, columns = header) \n",
    "df = df.sample(frac= 1).reset_index(drop=True)"
   ]
  },
  {
   "cell_type": "code",
   "execution_count": 0,
   "metadata": {
    "colab": {},
    "colab_type": "code",
    "id": "Yzq7d9js_jgJ"
   },
   "outputs": [],
   "source": [
    "labels = ['Toxic', 'Information', 'Sports', 'Religious', 'Advertisement']"
   ]
  },
  {
   "cell_type": "code",
   "execution_count": 0,
   "metadata": {
    "colab": {},
    "colab_type": "code",
    "id": "5ok9yBO7BpGx"
   },
   "outputs": [],
   "source": [
    "import re, string\n",
    "re_tok = re.compile(f'([{string.punctuation}“”¨«»®´·º½¾¿¡§£₤‘’])')\n",
    "def tokenize(s):\n",
    "    return re_tok.sub(r' \\1 ', s).split()"
   ]
  },
  {
   "cell_type": "markdown",
   "metadata": {
    "colab_type": "text",
    "id": "TqnY4U_be6oF"
   },
   "source": [
    "TFID Vectorizer to create matrix representation of words"
   ]
  },
  {
   "cell_type": "code",
   "execution_count": 0,
   "metadata": {
    "colab": {},
    "colab_type": "code",
    "id": "nl4yhdiSAdkc"
   },
   "outputs": [],
   "source": [
    "# TFID Vectorizer\n",
    "vec = TfidfVectorizer(ngram_range=(1,2), tokenizer=tokenize,\n",
    "               min_df=3, max_df=0.9, strip_accents='unicode', use_idf=1,\n",
    "               smooth_idf=1, sublinear_tf=1, stop_words='english')"
   ]
  },
  {
   "cell_type": "markdown",
   "metadata": {
    "colab_type": "text",
    "id": "00ZPd0u5nTIR"
   },
   "source": [
    "Start training using SVM"
   ]
  },
  {
   "cell_type": "code",
   "execution_count": 0,
   "metadata": {
    "colab": {},
    "colab_type": "code",
    "id": "UxfZWNBOCpaj"
   },
   "outputs": [],
   "source": [
    "from sklearn import svm\n",
    "\n",
    "# Create a classifier: a support vector classifier\n",
    "# svc = svm.SVC(probability=False,  kernel=\"rbf\", C=2.8, gamma=.0073,verbose=10)\n",
    "svc = svm.SVC(probability=False,  kernel=\"linear\", C=2.8, gamma=.0073,verbose=10)"
   ]
  },
  {
   "cell_type": "markdown",
   "metadata": {
    "colab_type": "text",
    "id": "npaedJJknUlz"
   },
   "source": [
    "Step 3: K-Fold Cross Validation"
   ]
  },
  {
   "cell_type": "code",
   "execution_count": 11,
   "metadata": {
    "colab": {
     "base_uri": "https://localhost:8080/",
     "height": 1000
    },
    "colab_type": "code",
    "executionInfo": {
     "elapsed": 1165801,
     "status": "ok",
     "timestamp": 1575858508021,
     "user": {
      "displayName": "Michael Li",
      "photoUrl": "",
      "userId": "00224213784858372686"
     },
     "user_tz": 300
    },
    "id": "-ioVt_ezCr2k",
    "outputId": "dd830262-4a52-48f5-bf13-4d1f87998fa2"
   },
   "outputs": [
    {
     "name": "stdout",
     "output_type": "stream",
     "text": [
      "Iteration: 1\n",
      "model: Toxic\n",
      "fitting the svm\n",
      "[LibSVM]Accuracy: 0.995264030310206\n",
      "model: Information\n",
      "fitting the svm\n",
      "[LibSVM]Accuracy: 0.9152261425526876\n",
      "model: Sports\n",
      "fitting the svm\n",
      "[LibSVM]Accuracy: 0.9689793985318494\n",
      "model: Religious\n",
      "fitting the svm\n",
      "[LibSVM]Accuracy: 0.939379587970637\n",
      "model: Advertisement\n",
      "fitting the svm\n",
      "[LibSVM]Accuracy: 0.9571394743073645\n",
      "Iteration: 2\n",
      "model: Toxic\n",
      "fitting the svm\n",
      "[LibSVM]Accuracy: 0.9936064409187781\n",
      "model: Information\n",
      "fitting the svm\n",
      "[LibSVM]Accuracy: 0.9171205304286053\n",
      "model: Sports\n",
      "fitting the svm\n",
      "[LibSVM]Accuracy: 0.9670850106559318\n",
      "model: Religious\n",
      "fitting the svm\n",
      "[LibSVM]Accuracy: 0.9400899834241061\n",
      "model: Advertisement\n",
      "fitting the svm\n",
      "[LibSVM]Accuracy: 0.9486147288657353\n",
      "Iteration: 3\n",
      "model: Toxic\n",
      "fitting the svm\n",
      "[LibSVM]Accuracy: 0.995264030310206\n",
      "model: Information\n",
      "fitting the svm\n",
      "[LibSVM]Accuracy: 0.9154629410371774\n",
      "model: Sports\n",
      "fitting the svm\n",
      "[LibSVM]Accuracy: 0.9680322045938906\n",
      "model: Religious\n",
      "fitting the svm\n",
      "[LibSVM]Accuracy: 0.9351172152498224\n",
      "model: Advertisement\n",
      "fitting the svm\n",
      "[LibSVM]Accuracy: 0.9500355197726734\n",
      "Iteration: 4\n",
      "model: Toxic\n",
      "fitting the svm\n",
      "[LibSVM]Accuracy: 0.9964480227326545\n",
      "model: Information\n",
      "fitting the svm\n",
      "[LibSVM]Accuracy: 0.9192517167890125\n",
      "model: Sports\n",
      "fitting the svm\n",
      "[LibSVM]Accuracy: 0.9659010182334833\n",
      "model: Religious\n",
      "fitting the svm\n",
      "[LibSVM]Accuracy: 0.9455363485673691\n",
      "model: Advertisement\n",
      "fitting the svm\n",
      "[LibSVM]Accuracy: 0.9554818849159366\n",
      "Iteration: 5\n",
      "model: Toxic\n",
      "fitting the svm\n",
      "[LibSVM]Accuracy: 0.9983424106085721\n",
      "model: Information\n",
      "fitting the svm\n",
      "[LibSVM]Accuracy: 0.9218565001183993\n",
      "model: Sports\n",
      "fitting the svm\n",
      "[LibSVM]Accuracy: 0.9663746152024627\n",
      "model: Religious\n",
      "fitting the svm\n",
      "[LibSVM]Accuracy: 0.941747572815534\n",
      "model: Advertisement\n",
      "fitting the svm\n",
      "[LibSVM]Accuracy: 0.953587497040019\n"
     ]
    }
   ],
   "source": [
    "kf = KFold(n_splits=5)\n",
    "iteration = 1\n",
    "import pickle\n",
    "\n",
    "accuracies = { label:[] for label in labels}\n",
    "\n",
    "for train_index, test_index in kf.split(df):\n",
    "    print(\"Iteration:\", iteration)\n",
    "    iteration += 1\n",
    "\n",
    "    for model in labels:\n",
    "        Xtr, Xts = df[\"Tweet\"][train_index], df[\"Tweet\"][test_index]\n",
    "        ytr, yts = df[model][train_index], df[model][test_index]\n",
    "        Xtr = vec.fit_transform(Xtr)\n",
    "        Xts = vec.transform(Xts)\n",
    "        print(\"model:\", model)\n",
    "        with open( model + str(iteration) + \"svc.p\", \"wb\" ) as fp:\n",
    "            pickle.dump( [svc, Xtr, ytr], fp)\n",
    "        with open( model + str(iteration) + \"svc.p\", \"rb\" ) as fp:\n",
    "            svc, Xtr, ytr = pickle.load(fp)\n",
    "        print(\"fitting the svm\")\n",
    "        svc.fit(Xtr, ytr)\n",
    "        yhat_ts = svc.predict(Xts)\n",
    "        acc = np.mean(yhat_ts == yts)\n",
    "        print(\"Accuracy:\", acc)\n",
    "        accuracies[model].append(acc)"
   ]
  },
  {
   "cell_type": "markdown",
   "metadata": {
    "colab_type": "text",
    "id": "vLQXy4O39eEd"
   },
   "source": [
    "### Testing"
   ]
  },
  {
   "cell_type": "code",
   "execution_count": 12,
   "metadata": {
    "colab": {
     "base_uri": "https://localhost:8080/",
     "height": 357
    },
    "colab_type": "code",
    "executionInfo": {
     "elapsed": 1504584,
     "status": "ok",
     "timestamp": 1575858846882,
     "user": {
      "displayName": "Michael Li",
      "photoUrl": "",
      "userId": "00224213784858372686"
     },
     "user_tz": 300
    },
    "id": "SCcUyhkK_LAY",
    "outputId": "e3613f9e-6f26-4642-aec3-bb3e4d60106f"
   },
   "outputs": [
    {
     "name": "stdout",
     "output_type": "stream",
     "text": [
      "[LibSVM][LibSVM][LibSVM][LibSVM][LibSVM]"
     ]
    },
    {
     "data": {
      "text/plain": [
       "{'Advertisement': SVC(C=2.8, cache_size=200, class_weight=None, coef0=0.0,\n",
       "     decision_function_shape='ovr', degree=3, gamma=0.0073, kernel='linear',\n",
       "     max_iter=-1, probability=False, random_state=None, shrinking=True,\n",
       "     tol=0.001, verbose=10),\n",
       " 'Information': SVC(C=2.8, cache_size=200, class_weight=None, coef0=0.0,\n",
       "     decision_function_shape='ovr', degree=3, gamma=0.0073, kernel='linear',\n",
       "     max_iter=-1, probability=False, random_state=None, shrinking=True,\n",
       "     tol=0.001, verbose=10),\n",
       " 'Religious': SVC(C=2.8, cache_size=200, class_weight=None, coef0=0.0,\n",
       "     decision_function_shape='ovr', degree=3, gamma=0.0073, kernel='linear',\n",
       "     max_iter=-1, probability=False, random_state=None, shrinking=True,\n",
       "     tol=0.001, verbose=10),\n",
       " 'Sports': SVC(C=2.8, cache_size=200, class_weight=None, coef0=0.0,\n",
       "     decision_function_shape='ovr', degree=3, gamma=0.0073, kernel='linear',\n",
       "     max_iter=-1, probability=False, random_state=None, shrinking=True,\n",
       "     tol=0.001, verbose=10),\n",
       " 'Toxic': SVC(C=2.8, cache_size=200, class_weight=None, coef0=0.0,\n",
       "     decision_function_shape='ovr', degree=3, gamma=0.0073, kernel='linear',\n",
       "     max_iter=-1, probability=False, random_state=None, shrinking=True,\n",
       "     tol=0.001, verbose=10)}"
      ]
     },
     "execution_count": 12,
     "metadata": {
      "tags": []
     },
     "output_type": "execute_result"
    }
   ],
   "source": [
    "#Build model for testing\n",
    "\n",
    "models = {}\n",
    "for model in labels:\n",
    "    X = vec.fit_transform(df[\"Tweet\"])\n",
    "    Y = df[model]\n",
    "    temp = svm.SVC(probability=False,  kernel=\"linear\", C=2.8, gamma=.0073,verbose=10)\n",
    "    temp.fit(X,Y)\n",
    "    models[model] = temp\n",
    "\n",
    "models"
   ]
  },
  {
   "cell_type": "code",
   "execution_count": 0,
   "metadata": {
    "colab": {},
    "colab_type": "code",
    "id": "klXseLhl9gKY"
   },
   "outputs": [],
   "source": [
    "def test(tweet):\n",
    "    test_data = vec.transform([tweet])\n",
    "    json = {}\n",
    "    #model predicting: 1 is in that category, 0 is not\n",
    "    for model in models.keys():\n",
    "        result = models[model].predict(test_data)\n",
    "        json[model] = result[0]\n",
    "    return json"
   ]
  },
  {
   "cell_type": "code",
   "execution_count": 14,
   "metadata": {
    "colab": {
     "base_uri": "https://localhost:8080/",
     "height": 34
    },
    "colab_type": "code",
    "executionInfo": {
     "elapsed": 1504572,
     "status": "ok",
     "timestamp": 1575858846884,
     "user": {
      "displayName": "Michael Li",
      "photoUrl": "",
      "userId": "00224213784858372686"
     },
     "user_tz": 300
    },
    "id": "RmW41eTnDWgH",
    "outputId": "07901f04-a2ef-4a12-fad3-596fe01aad1a"
   },
   "outputs": [
    {
     "name": "stdout",
     "output_type": "stream",
     "text": [
      "{'Toxic': '1', 'Information': '0', 'Sports': '0', 'Religious': '0', 'Advertisement': '0'}\n"
     ]
    }
   ],
   "source": [
    "print(test(\"Fuck all of you\"))"
   ]
  },
  {
   "cell_type": "code",
   "execution_count": 15,
   "metadata": {
    "colab": {
     "base_uri": "https://localhost:8080/",
     "height": 102
    },
    "colab_type": "code",
    "executionInfo": {
     "elapsed": 1504564,
     "status": "ok",
     "timestamp": 1575858846885,
     "user": {
      "displayName": "Michael Li",
      "photoUrl": "",
      "userId": "00224213784858372686"
     },
     "user_tz": 300
    },
    "id": "DIBBD80bWnQ4",
    "outputId": "f21ecc43-9355-4e5f-c08a-af7b70d5415c"
   },
   "outputs": [
    {
     "name": "stdout",
     "output_type": "stream",
     "text": [
      "Toxic : 0.9957849869760833\n",
      "Information : 0.9177835661851764\n",
      "Sports : 0.9672744494435236\n",
      "Religious : 0.9403741416054938\n",
      "Advertisement : 0.9529718209803457\n"
     ]
    }
   ],
   "source": [
    "for elem in accuracies:\n",
    "    temp = np.array(accuracies[elem])\n",
    "    temp_avg = np.average(temp)\n",
    "    print(elem, \":\", temp_avg)"
   ]
  },
  {
   "cell_type": "code",
   "execution_count": 16,
   "metadata": {
    "colab": {
     "base_uri": "https://localhost:8080/",
     "height": 34
    },
    "colab_type": "code",
    "executionInfo": {
     "elapsed": 1504555,
     "status": "ok",
     "timestamp": 1575858846885,
     "user": {
      "displayName": "Michael Li",
      "photoUrl": "",
      "userId": "00224213784858372686"
     },
     "user_tz": 300
    },
    "id": "TzfT2WOUDxSJ",
    "outputId": "1ff1b7cf-a249-43db-d1af-333d89614171"
   },
   "outputs": [
    {
     "name": "stdout",
     "output_type": "stream",
     "text": [
      "{'Toxic': '0', 'Information': '1', 'Sports': '0', 'Religious': '0', 'Advertisement': '0'}\n"
     ]
    }
   ],
   "source": [
    "print(test(\"The Sun is 150 million kilometers away from the Moon.\"))"
   ]
  },
  {
   "cell_type": "code",
   "execution_count": 17,
   "metadata": {
    "colab": {
     "base_uri": "https://localhost:8080/",
     "height": 34
    },
    "colab_type": "code",
    "executionInfo": {
     "elapsed": 1504548,
     "status": "ok",
     "timestamp": 1575858846886,
     "user": {
      "displayName": "Michael Li",
      "photoUrl": "",
      "userId": "00224213784858372686"
     },
     "user_tz": 300
    },
    "id": "4jH-wW8aDxc4",
    "outputId": "5d3d4dd1-1d17-4686-f633-cbf2e6757ff6"
   },
   "outputs": [
    {
     "name": "stdout",
     "output_type": "stream",
     "text": [
      "{'Toxic': '0', 'Information': '0', 'Sports': '1', 'Religious': '0', 'Advertisement': '0'}\n"
     ]
    }
   ],
   "source": [
    "print(test(\"The Latest: Chiefs, Patriots getting chippy in New England\"))"
   ]
  },
  {
   "cell_type": "code",
   "execution_count": 18,
   "metadata": {
    "colab": {
     "base_uri": "https://localhost:8080/",
     "height": 34
    },
    "colab_type": "code",
    "executionInfo": {
     "elapsed": 1504540,
     "status": "ok",
     "timestamp": 1575858846887,
     "user": {
      "displayName": "Michael Li",
      "photoUrl": "",
      "userId": "00224213784858372686"
     },
     "user_tz": 300
    },
    "id": "-8fgVR9xDxlM",
    "outputId": "dafaafea-1388-4372-faaa-12bfdfab329a"
   },
   "outputs": [
    {
     "name": "stdout",
     "output_type": "stream",
     "text": [
      "{'Toxic': '0', 'Information': '0', 'Sports': '0', 'Religious': '1', 'Advertisement': '0'}\n"
     ]
    }
   ],
   "source": [
    "print(test(\"Trust in the LORD with all your heart, and do not lean on your own understanding. In all your ways acknowledge him, and he will make straight your paths.\"))"
   ]
  },
  {
   "cell_type": "code",
   "execution_count": 19,
   "metadata": {
    "colab": {
     "base_uri": "https://localhost:8080/",
     "height": 34
    },
    "colab_type": "code",
    "executionInfo": {
     "elapsed": 1504532,
     "status": "ok",
     "timestamp": 1575858846887,
     "user": {
      "displayName": "Michael Li",
      "photoUrl": "",
      "userId": "00224213784858372686"
     },
     "user_tz": 300
    },
    "id": "AEzIKYGTEYUm",
    "outputId": "8d3ec27e-760c-42e1-e786-3a2737868fa3"
   },
   "outputs": [
    {
     "name": "stdout",
     "output_type": "stream",
     "text": [
      "{'Toxic': '0', 'Information': '0', 'Sports': '0', 'Religious': '0', 'Advertisement': '1'}\n"
     ]
    }
   ],
   "source": [
    "print(test(\"Christmas special: Buy 1 get 1 free.\"))"
   ]
  }
 ],
 "metadata": {
  "accelerator": "GPU",
  "colab": {
   "collapsed_sections": [],
   "name": "2_Support_Vector_Machines.ipynb",
   "provenance": []
  },
  "kernelspec": {
   "display_name": "Python 3",
   "language": "python",
   "name": "python3"
  },
  "language_info": {
   "codemirror_mode": {
    "name": "ipython",
    "version": 3
   },
   "file_extension": ".py",
   "mimetype": "text/x-python",
   "name": "python",
   "nbconvert_exporter": "python",
   "pygments_lexer": "ipython3",
   "version": "3.7.2"
  }
 },
 "nbformat": 4,
 "nbformat_minor": 1
}
