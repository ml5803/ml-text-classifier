{
 "cells": [
  {
   "cell_type": "markdown",
   "metadata": {
    "colab_type": "text",
    "id": "VefewCTYVvqh"
   },
   "source": [
    "### Michael Li (ml5803) and Kaixuan Zhou (kz1005)\n",
    "### Logistic Regression\n",
    "#### Text Classification : Toxic, Information, Sports, Religious, and Advertisement\t\n"
   ]
  },
  {
   "cell_type": "markdown",
   "metadata": {
    "colab_type": "text",
    "id": "wAocDc6eXCUo"
   },
   "source": [
    "# Initialization and imports"
   ]
  },
  {
   "cell_type": "code",
   "execution_count": 0,
   "metadata": {
    "colab": {},
    "colab_type": "code",
    "id": "uKkScufG3G8M"
   },
   "outputs": [],
   "source": [
    "#Let's ignore the warnings...\n",
    "import warnings\n",
    "warnings.simplefilter(\"ignore\")"
   ]
  },
  {
   "cell_type": "code",
   "execution_count": 0,
   "metadata": {
    "colab": {},
    "colab_type": "code",
    "id": "HMixGeK_3WvY"
   },
   "outputs": [],
   "source": [
    "#Authenticate through Google Collab\n",
    "from google.colab import auth\n",
    "auth.authenticate_user()\n",
    "\n",
    "import gspread\n",
    "from oauth2client.client import GoogleCredentials\n",
    "\n",
    "gc = gspread.authorize(GoogleCredentials.get_application_default())"
   ]
  },
  {
   "cell_type": "code",
   "execution_count": 0,
   "metadata": {
    "colab": {},
    "colab_type": "code",
    "id": "BhOOmaZRXR4A"
   },
   "outputs": [],
   "source": [
    "#import libraries\n",
    "\n",
    "import pandas as pd, numpy as np\n",
    "from sklearn.linear_model import LogisticRegression\n",
    "from sklearn.feature_extraction.text import CountVectorizer, TfidfVectorizer\n",
    "\n",
    "import re, string\n",
    "\n",
    "from sklearn.metrics import recall_score\n",
    "from sklearn.metrics import f1_score\n",
    "from sklearn.metrics import precision_score\n",
    "from sklearn.metrics import accuracy_score\n",
    "from sklearn.model_selection import KFold"
   ]
  },
  {
   "cell_type": "markdown",
   "metadata": {
    "colab_type": "text",
    "id": "Pvc_g6MhX0T6"
   },
   "source": [
    "# Tweet parsing functions"
   ]
  },
  {
   "cell_type": "code",
   "execution_count": 0,
   "metadata": {
    "colab": {},
    "colab_type": "code",
    "id": "eOel4DQS7qGK"
   },
   "outputs": [],
   "source": [
    "def get_hashtags(text):\n",
    "    sentences = text.split(\".\")\n",
    "    words = [word for sentence in sentences for word in sentence.split()]\n",
    "    all_hashtags = [word[1:] for word in words if word.startswith('#')]\n",
    "    for tag in all_hashtags:\n",
    "        text = text.replace(\"#\" + tag, \"\")\n",
    "    \n",
    "    results = []\n",
    "    for i in range(len(all_hashtags)):\n",
    "        result = []\n",
    "        for j in range(len(all_hashtags[i])):\n",
    "            if not (all_hashtags[i][j] >= 'a' and all_hashtags[i][j] <= 'z') and not (all_hashtags[i][j] >= 'A' and all_hashtags[i][j] <= 'Z'):\n",
    "                pass\n",
    "            else:\n",
    "                result.append(all_hashtags[i][j])\n",
    "        results.append(''.join(result))\n",
    "    return (';'.join(results), text)\n",
    "\n",
    "def get_ats(text):\n",
    "    sentences = text.split(\".\")\n",
    "    words = [word for sentence in sentences for word in sentence.split()]\n",
    "    all_hashtags = [word[1:] for word in words if word.startswith('@')]\n",
    "    for tag in all_hashtags:\n",
    "        text = text.replace(\"#\" + tag, \"\")\n",
    "    \n",
    "    results = []\n",
    "    for i in range(len(all_hashtags)):\n",
    "        result = []\n",
    "        for j in range(len(all_hashtags[i])):\n",
    "            if not (all_hashtags[i][j] >= 'a' and all_hashtags[i][j] <= 'z') and not (all_hashtags[i][j] >= 'A' and all_hashtags[i][j] <= 'Z'):\n",
    "                pass\n",
    "            else:\n",
    "                result.append(all_hashtags[i][j])\n",
    "        results.append(''.join(result))\n",
    "    return (';'.join(results), text)\n",
    "\n",
    "def get_words(text):\n",
    "    word_start = False\n",
    "    start = 0\n",
    "    result = []\n",
    "    for index in range(len(text)):\n",
    "\t    char = text[index]\n",
    "\t    if not char.isalpha() and not word_start:\n",
    "\t        continue\n",
    "\t    else:\n",
    "\t        # we are reading a word\n",
    "\t        # update the start index\n",
    "\t        if not word_start:\n",
    "\t            word_start = True\n",
    "\t            start = index\n",
    "\t        # reach the end of a word\n",
    "\t        if not char.isalpha():\n",
    "\t            word_start = False\n",
    "\t            result.append(text[start:index])\n",
    "    \n",
    "    if word_start and start != len(text) - 1:\n",
    "        result.append(text[start:len(text)])\n",
    "    return \" \".join(result)\n",
    "\n",
    "def get_links(text):\n",
    "    urls = re.findall(r'(https?://\\S+)', text)\n",
    "    for i in range(len(urls)):\n",
    "        if urls[i][-1] == '.' or urls[i][-1] == '!' or urls[i][-1] == '?':\n",
    "            urls[i] = urls[i][:len(urls[i]) - 1]\n",
    "    for url in urls:\n",
    "        text = text.replace(url, '')\n",
    "    return (';'.join(urls), text)"
   ]
  },
  {
   "cell_type": "code",
   "execution_count": 0,
   "metadata": {
    "colab": {},
    "colab_type": "code",
    "id": "GWF3SV_Y71Aq"
   },
   "outputs": [],
   "source": [
    "def cleaned_text(data):\n",
    "    persons, text = get_ats(data)\n",
    "    hashtags, text = get_hashtags(text)\n",
    "    hyper_links, text = get_links(text)\n",
    "    cleaned_text = get_words(text)\n",
    "    return cleaned_text\n",
    "\n",
    "\n",
    "re_tok = re.compile(f'([{string.punctuation}“”¨«»®´·º½¾¿¡§£₤‘’])')\n",
    "def tokenize(s):\n",
    "    return re_tok.sub(r' \\1 ', s).split()"
   ]
  },
  {
   "cell_type": "markdown",
   "metadata": {
    "colab_type": "text",
    "id": "0A2B5jUVYDga"
   },
   "source": [
    "# Code"
   ]
  },
  {
   "cell_type": "markdown",
   "metadata": {
    "colab_type": "text",
    "id": "8FBF8dzOYMTl"
   },
   "source": [
    "Now that we have the libraries imported and helper functions written, we can start writing code.\n",
    "<br />\n",
    "Steps: <br />\n",
    "1. Load data from Google Sheets\n",
    "2. Read data into dataframe\n",
    "3. Convert tweet text into TFID vector\n",
    "4. Use TFID vector to create models\n",
    "5. Cross Validation through KFolds"
   ]
  },
  {
   "cell_type": "code",
   "execution_count": 6,
   "metadata": {
    "colab": {
     "base_uri": "https://localhost:8080/",
     "height": 35
    },
    "colab_type": "code",
    "executionInfo": {
     "elapsed": 30414,
     "status": "ok",
     "timestamp": 1575857586673,
     "user": {
      "displayName": "Kaixuan Zhou",
      "photoUrl": "https://lh3.googleusercontent.com/a-/AAuE7mCKkDULUqJnBZiCB5MQ9LYGMzLJ29wuuhmDQTai=s64",
      "userId": "14372667014878541747"
     },
     "user_tz": 300
    },
    "id": "rhNElvEg3W4x",
    "outputId": "c120c40f-b8e5-4d0e-8569-3846bc1bc9ed"
   },
   "outputs": [
    {
     "name": "stdout",
     "output_type": "stream",
     "text": [
      "['Handle', 'TweetID', 'Tweet', 'Toxic', 'Information', 'Sports', 'Religious', 'Advertisement', 'Classification']\n"
     ]
    }
   ],
   "source": [
    "#Load data\n",
    "worksheet = gc.open('output_copy').sheet1\n",
    "records = 30000\n",
    "rows = worksheet.get_all_values()\n",
    "header = rows[0]\n",
    "data = rows[1:records]\n",
    "print(rows[0])"
   ]
  },
  {
   "cell_type": "code",
   "execution_count": 0,
   "metadata": {
    "colab": {},
    "colab_type": "code",
    "id": "4KBkbg5LbPQh"
   },
   "outputs": [],
   "source": [
    "# shuffle data\n",
    "from random import shuffle\n",
    "shuffle(data)"
   ]
  },
  {
   "cell_type": "code",
   "execution_count": 0,
   "metadata": {
    "colab": {},
    "colab_type": "code",
    "id": "V2q_0rShOGm7"
   },
   "outputs": [],
   "source": [
    "# uncomment for balanced dataset\n",
    "# balanced_data = []\n",
    "# count = [0, 0, 0, 0, 0]\n",
    "# for tweet in data:\n",
    "#     count[int(tweet[-1])] += 1\n",
    "\n",
    "# new_count = [0, 0, 0, 0, 0]\n",
    "# min_count = min(count)\n",
    "# unused_data = []\n",
    "# for tweet in data:\n",
    "#     if new_count[int(tweet[-1])] < min_count:\n",
    "#         balanced_data.append(tweet)\n",
    "#         new_count[int(tweet[-1])] += 1\n",
    "#     else:\n",
    "#         unused_data.append(tweet)\n",
    "\n",
    "# data = balanced_data\n",
    "# unused_df = pd.DataFrame(unused_data, columns = header)\n",
    "# print(len(data))"
   ]
  },
  {
   "cell_type": "code",
   "execution_count": 9,
   "metadata": {
    "colab": {
     "base_uri": "https://localhost:8080/",
     "height": 407
    },
    "colab_type": "code",
    "executionInfo": {
     "elapsed": 30400,
     "status": "ok",
     "timestamp": 1575857586678,
     "user": {
      "displayName": "Kaixuan Zhou",
      "photoUrl": "https://lh3.googleusercontent.com/a-/AAuE7mCKkDULUqJnBZiCB5MQ9LYGMzLJ29wuuhmDQTai=s64",
      "userId": "14372667014878541747"
     },
     "user_tz": 300
    },
    "id": "IfjorIUZ3W7i",
    "outputId": "cde51be5-36d4-4693-c70c-d49d0ce25775"
   },
   "outputs": [
    {
     "data": {
      "text/html": [
       "<div>\n",
       "<style scoped>\n",
       "    .dataframe tbody tr th:only-of-type {\n",
       "        vertical-align: middle;\n",
       "    }\n",
       "\n",
       "    .dataframe tbody tr th {\n",
       "        vertical-align: top;\n",
       "    }\n",
       "\n",
       "    .dataframe thead th {\n",
       "        text-align: right;\n",
       "    }\n",
       "</style>\n",
       "<table border=\"1\" class=\"dataframe\">\n",
       "  <thead>\n",
       "    <tr style=\"text-align: right;\">\n",
       "      <th></th>\n",
       "      <th>Handle</th>\n",
       "      <th>TweetID</th>\n",
       "      <th>Tweet</th>\n",
       "      <th>Toxic</th>\n",
       "      <th>Information</th>\n",
       "      <th>Sports</th>\n",
       "      <th>Religious</th>\n",
       "      <th>Advertisement</th>\n",
       "      <th>Classification</th>\n",
       "    </tr>\n",
       "  </thead>\n",
       "  <tbody>\n",
       "    <tr>\n",
       "      <th>0</th>\n",
       "      <td>alislam</td>\n",
       "      <td>1186673652462284801</td>\n",
       "      <td>Keeping company with the righteous is another ...</td>\n",
       "      <td>0</td>\n",
       "      <td>0</td>\n",
       "      <td>0</td>\n",
       "      <td>1</td>\n",
       "      <td>0</td>\n",
       "      <td>3</td>\n",
       "    </tr>\n",
       "    <tr>\n",
       "      <th>1</th>\n",
       "      <td>Forbes</td>\n",
       "      <td>1200100777903214592</td>\n",
       "      <td>Retailers were thrilled about this. Gimbel Bro...</td>\n",
       "      <td>0</td>\n",
       "      <td>1</td>\n",
       "      <td>0</td>\n",
       "      <td>0</td>\n",
       "      <td>0</td>\n",
       "      <td>1</td>\n",
       "    </tr>\n",
       "    <tr>\n",
       "      <th>2</th>\n",
       "      <td>BR_NBA</td>\n",
       "      <td>1198068762710171648</td>\n",
       "      <td>RT @BleacherReport: AD AND BRON ACTIVATE SHOWT...</td>\n",
       "      <td>0</td>\n",
       "      <td>0</td>\n",
       "      <td>1</td>\n",
       "      <td>0</td>\n",
       "      <td>0</td>\n",
       "      <td>2</td>\n",
       "    </tr>\n",
       "    <tr>\n",
       "      <th>3</th>\n",
       "      <td>ReviewReligions</td>\n",
       "      <td>1186235191678902274</td>\n",
       "      <td>Various religions trend in Singapore, includin...</td>\n",
       "      <td>0</td>\n",
       "      <td>0</td>\n",
       "      <td>0</td>\n",
       "      <td>1</td>\n",
       "      <td>0</td>\n",
       "      <td>3</td>\n",
       "    </tr>\n",
       "    <tr>\n",
       "      <th>4</th>\n",
       "      <td>HinduismVideos</td>\n",
       "      <td>990444590262976512</td>\n",
       "      <td>Is this the highest threshold of stupidity? 😂 ...</td>\n",
       "      <td>0</td>\n",
       "      <td>0</td>\n",
       "      <td>0</td>\n",
       "      <td>1</td>\n",
       "      <td>0</td>\n",
       "      <td>3</td>\n",
       "    </tr>\n",
       "    <tr>\n",
       "      <th>...</th>\n",
       "      <td>...</td>\n",
       "      <td>...</td>\n",
       "      <td>...</td>\n",
       "      <td>...</td>\n",
       "      <td>...</td>\n",
       "      <td>...</td>\n",
       "      <td>...</td>\n",
       "      <td>...</td>\n",
       "      <td>...</td>\n",
       "    </tr>\n",
       "    <tr>\n",
       "      <th>21110</th>\n",
       "      <td>Pontifex</td>\n",
       "      <td>1183706515800129538</td>\n",
       "      <td>The Lord gives each of us a vocation, a challe...</td>\n",
       "      <td>0</td>\n",
       "      <td>0</td>\n",
       "      <td>0</td>\n",
       "      <td>1</td>\n",
       "      <td>0</td>\n",
       "      <td>3</td>\n",
       "    </tr>\n",
       "    <tr>\n",
       "      <th>21111</th>\n",
       "      <td>alislam</td>\n",
       "      <td>1182348148687032320</td>\n",
       "      <td>Press Release: Head of #Ahmadiyya Muslim Commu...</td>\n",
       "      <td>0</td>\n",
       "      <td>0</td>\n",
       "      <td>0</td>\n",
       "      <td>1</td>\n",
       "      <td>0</td>\n",
       "      <td>3</td>\n",
       "    </tr>\n",
       "    <tr>\n",
       "      <th>21112</th>\n",
       "      <td>marcjacobs</td>\n",
       "      <td>1197281212185939969</td>\n",
       "      <td>Chelsea Werner wearing THE Prom Dress from #TH...</td>\n",
       "      <td>0</td>\n",
       "      <td>0</td>\n",
       "      <td>0</td>\n",
       "      <td>0</td>\n",
       "      <td>1</td>\n",
       "      <td>4</td>\n",
       "    </tr>\n",
       "    <tr>\n",
       "      <th>21113</th>\n",
       "      <td>PositivePrayers</td>\n",
       "      <td>1193423103390560256</td>\n",
       "      <td>Are you living the abundant life?\\n\\nJesus sai...</td>\n",
       "      <td>0</td>\n",
       "      <td>0</td>\n",
       "      <td>0</td>\n",
       "      <td>1</td>\n",
       "      <td>0</td>\n",
       "      <td>3</td>\n",
       "    </tr>\n",
       "    <tr>\n",
       "      <th>21114</th>\n",
       "      <td>SciAndBelief</td>\n",
       "      <td>1192744066930352128</td>\n",
       "      <td>John Wyatt, medical doctor, Christian bioethic...</td>\n",
       "      <td>0</td>\n",
       "      <td>0</td>\n",
       "      <td>0</td>\n",
       "      <td>1</td>\n",
       "      <td>0</td>\n",
       "      <td>3</td>\n",
       "    </tr>\n",
       "  </tbody>\n",
       "</table>\n",
       "<p>21115 rows × 9 columns</p>\n",
       "</div>"
      ],
      "text/plain": [
       "                Handle              TweetID  ... Advertisement Classification\n",
       "0              alislam  1186673652462284801  ...             0              3\n",
       "1               Forbes  1200100777903214592  ...             0              1\n",
       "2               BR_NBA  1198068762710171648  ...             0              2\n",
       "3      ReviewReligions  1186235191678902274  ...             0              3\n",
       "4       HinduismVideos   990444590262976512  ...             0              3\n",
       "...                ...                  ...  ...           ...            ...\n",
       "21110         Pontifex  1183706515800129538  ...             0              3\n",
       "21111          alislam  1182348148687032320  ...             0              3\n",
       "21112       marcjacobs  1197281212185939969  ...             1              4\n",
       "21113  PositivePrayers  1193423103390560256  ...             0              3\n",
       "21114     SciAndBelief  1192744066930352128  ...             0              3\n",
       "\n",
       "[21115 rows x 9 columns]"
      ]
     },
     "execution_count": 9,
     "metadata": {
      "tags": []
     },
     "output_type": "execute_result"
    }
   ],
   "source": [
    "#Read data into dataframe\n",
    "\n",
    "df = pd.DataFrame(data, columns = header)\n",
    "\n",
    "df"
   ]
  },
  {
   "cell_type": "code",
   "execution_count": 10,
   "metadata": {
    "colab": {
     "base_uri": "https://localhost:8080/",
     "height": 168
    },
    "colab_type": "code",
    "executionInfo": {
     "elapsed": 30388,
     "status": "ok",
     "timestamp": 1575857586678,
     "user": {
      "displayName": "Kaixuan Zhou",
      "photoUrl": "https://lh3.googleusercontent.com/a-/AAuE7mCKkDULUqJnBZiCB5MQ9LYGMzLJ29wuuhmDQTai=s64",
      "userId": "14372667014878541747"
     },
     "user_tz": 300
    },
    "id": "ST67cSwu3XAX",
    "outputId": "50a798e1-d425-40d5-9251-3723e7ef608a"
   },
   "outputs": [
    {
     "data": {
      "text/html": [
       "<div>\n",
       "<style scoped>\n",
       "    .dataframe tbody tr th:only-of-type {\n",
       "        vertical-align: middle;\n",
       "    }\n",
       "\n",
       "    .dataframe tbody tr th {\n",
       "        vertical-align: top;\n",
       "    }\n",
       "\n",
       "    .dataframe thead th {\n",
       "        text-align: right;\n",
       "    }\n",
       "</style>\n",
       "<table border=\"1\" class=\"dataframe\">\n",
       "  <thead>\n",
       "    <tr style=\"text-align: right;\">\n",
       "      <th></th>\n",
       "      <th>Handle</th>\n",
       "      <th>TweetID</th>\n",
       "      <th>Tweet</th>\n",
       "      <th>Toxic</th>\n",
       "      <th>Information</th>\n",
       "      <th>Sports</th>\n",
       "      <th>Religious</th>\n",
       "      <th>Advertisement</th>\n",
       "      <th>Classification</th>\n",
       "    </tr>\n",
       "  </thead>\n",
       "  <tbody>\n",
       "    <tr>\n",
       "      <th>count</th>\n",
       "      <td>21115</td>\n",
       "      <td>21115</td>\n",
       "      <td>21115</td>\n",
       "      <td>21115</td>\n",
       "      <td>21115</td>\n",
       "      <td>21115</td>\n",
       "      <td>21115</td>\n",
       "      <td>21115</td>\n",
       "      <td>21115</td>\n",
       "    </tr>\n",
       "    <tr>\n",
       "      <th>unique</th>\n",
       "      <td>99</td>\n",
       "      <td>18795</td>\n",
       "      <td>20110</td>\n",
       "      <td>2</td>\n",
       "      <td>2</td>\n",
       "      <td>2</td>\n",
       "      <td>2</td>\n",
       "      <td>2</td>\n",
       "      <td>5</td>\n",
       "    </tr>\n",
       "    <tr>\n",
       "      <th>top</th>\n",
       "      <td></td>\n",
       "      <td></td>\n",
       "      <td>RT @AllahGreatQuran: Trust Allah, He is the on...</td>\n",
       "      <td>0</td>\n",
       "      <td>0</td>\n",
       "      <td>0</td>\n",
       "      <td>0</td>\n",
       "      <td>0</td>\n",
       "      <td>3</td>\n",
       "    </tr>\n",
       "    <tr>\n",
       "      <th>freq</th>\n",
       "      <td>1023</td>\n",
       "      <td>1023</td>\n",
       "      <td>6</td>\n",
       "      <td>19193</td>\n",
       "      <td>16316</td>\n",
       "      <td>17715</td>\n",
       "      <td>14462</td>\n",
       "      <td>16374</td>\n",
       "      <td>6253</td>\n",
       "    </tr>\n",
       "  </tbody>\n",
       "</table>\n",
       "</div>"
      ],
      "text/plain": [
       "       Handle TweetID  ... Advertisement Classification\n",
       "count   21115   21115  ...         21115          21115\n",
       "unique     99   18795  ...             2              5\n",
       "top                    ...             0              3\n",
       "freq     1023    1023  ...         16374           6253\n",
       "\n",
       "[4 rows x 9 columns]"
      ]
     },
     "execution_count": 10,
     "metadata": {
      "tags": []
     },
     "output_type": "execute_result"
    }
   ],
   "source": [
    "df.describe()"
   ]
  },
  {
   "cell_type": "code",
   "execution_count": 11,
   "metadata": {
    "colab": {
     "base_uri": "https://localhost:8080/",
     "height": 35
    },
    "colab_type": "code",
    "executionInfo": {
     "elapsed": 30377,
     "status": "ok",
     "timestamp": 1575857586680,
     "user": {
      "displayName": "Kaixuan Zhou",
      "photoUrl": "https://lh3.googleusercontent.com/a-/AAuE7mCKkDULUqJnBZiCB5MQ9LYGMzLJ29wuuhmDQTai=s64",
      "userId": "14372667014878541747"
     },
     "user_tz": 300
    },
    "id": "dAomWbRY3W_T",
    "outputId": "69dd5a99-533c-40bb-b041-bd8978e174d0"
   },
   "outputs": [
    {
     "name": "stdout",
     "output_type": "stream",
     "text": [
      "(14076, 9) (7039, 9)\n"
     ]
    }
   ],
   "source": [
    "#data split into train and test\n",
    "train_ind = int(len(data) // 1.5)\n",
    "df_train = df[:train_ind]\n",
    "df_test = df[train_ind:]\n",
    "print(df_train.shape, df_test.shape)"
   ]
  },
  {
   "cell_type": "code",
   "execution_count": 0,
   "metadata": {
    "colab": {},
    "colab_type": "code",
    "id": "FNd9c34TQHmb"
   },
   "outputs": [],
   "source": [
    "#Convert tweet to TFID vector\n",
    "vec = TfidfVectorizer(ngram_range=(1,2), tokenizer=tokenize,\n",
    "               min_df=3, max_df=0.9, strip_accents='unicode', use_idf=1,\n",
    "               smooth_idf=1, sublinear_tf=1, stop_words='english')\n",
    "trn_term_doc = vec.fit_transform(df_train[\"Tweet\"])\n",
    "test_term_doc = vec.transform(df_test[\"Tweet\"])"
   ]
  },
  {
   "cell_type": "code",
   "execution_count": 0,
   "metadata": {
    "colab": {},
    "colab_type": "code",
    "id": "gnB0jgGDQ0yC"
   },
   "outputs": [],
   "source": [
    "def pr(y_i, y):\n",
    "    p = x[y==y_i].sum(0)\n",
    "    return (p+1) / ((y==y_i).sum()+1)\n",
    "    \n",
    "x = trn_term_doc\n",
    "test_x = test_term_doc"
   ]
  },
  {
   "cell_type": "code",
   "execution_count": 0,
   "metadata": {
    "colab": {},
    "colab_type": "code",
    "id": "5wZrAim9Q2B6"
   },
   "outputs": [],
   "source": [
    "def get_mdl(y):\n",
    "    y = y.values\n",
    "    y = np.array([int(i) for i in y])\n",
    "    r = np.log(pr(1,y) / pr(0,y))\n",
    "    m = LogisticRegression(C=4, dual=True)\n",
    "    x_nb = x.multiply(r)\n",
    "    return m.fit(x_nb, y), r"
   ]
  },
  {
   "cell_type": "code",
   "execution_count": 15,
   "metadata": {
    "colab": {
     "base_uri": "https://localhost:8080/",
     "height": 104
    },
    "colab_type": "code",
    "executionInfo": {
     "elapsed": 32203,
     "status": "ok",
     "timestamp": 1575857588530,
     "user": {
      "displayName": "Kaixuan Zhou",
      "photoUrl": "https://lh3.googleusercontent.com/a-/AAuE7mCKkDULUqJnBZiCB5MQ9LYGMzLJ29wuuhmDQTai=s64",
      "userId": "14372667014878541747"
     },
     "user_tz": 300
    },
    "id": "ab-wpKFuQ69z",
    "outputId": "eef14f14-6d20-4279-dd82-336b32e3d387"
   },
   "outputs": [
    {
     "name": "stdout",
     "output_type": "stream",
     "text": [
      "fit Toxic\n",
      "fit Information\n",
      "fit Sports\n",
      "fit Religious\n",
      "fit Advertisement\n"
     ]
    }
   ],
   "source": [
    "#Create models for each class\n",
    "label_cols = ['Toxic', 'Information', 'Sports', 'Religious', 'Advertisement']\n",
    "preds = np.zeros((len(df_test), len(label_cols)))\n",
    "models = {}\n",
    "for i, j in enumerate(label_cols):\n",
    "    print('fit', j)\n",
    "    m,r = get_mdl(df_train[j])\n",
    "    models[j] = (m, r)\n",
    "    preds[:,i] = m.predict_proba(test_x.multiply(r))[:,1]"
   ]
  },
  {
   "cell_type": "code",
   "execution_count": 16,
   "metadata": {
    "colab": {
     "base_uri": "https://localhost:8080/",
     "height": 622
    },
    "colab_type": "code",
    "executionInfo": {
     "elapsed": 32193,
     "status": "ok",
     "timestamp": 1575857588532,
     "user": {
      "displayName": "Kaixuan Zhou",
      "photoUrl": "https://lh3.googleusercontent.com/a-/AAuE7mCKkDULUqJnBZiCB5MQ9LYGMzLJ29wuuhmDQTai=s64",
      "userId": "14372667014878541747"
     },
     "user_tz": 300
    },
    "id": "vraXOoJPUnlI",
    "outputId": "11096321-e533-47b8-e298-7ef19b6fe124"
   },
   "outputs": [
    {
     "data": {
      "text/plain": [
       "{'Advertisement': (LogisticRegression(C=4, class_weight=None, dual=True, fit_intercept=True,\n",
       "                     intercept_scaling=1, l1_ratio=None, max_iter=100,\n",
       "                     multi_class='warn', n_jobs=None, penalty='l2',\n",
       "                     random_state=None, solver='warn', tol=0.0001, verbose=0,\n",
       "                     warm_start=False),\n",
       "  matrix([[ 1.03980435,  1.06448845, -1.25193752, ...,  1.86744853,\n",
       "            0.28774837,  0.43056192]])),\n",
       " 'Information': (LogisticRegression(C=4, class_weight=None, dual=True, fit_intercept=True,\n",
       "                     intercept_scaling=1, l1_ratio=None, max_iter=100,\n",
       "                     multi_class='warn', n_jobs=None, penalty='l2',\n",
       "                     random_state=None, solver='warn', tol=0.0001, verbose=0,\n",
       "                     warm_start=False),\n",
       "  matrix([[-0.55518752, -1.57092602, -0.57854971, ...,  0.59271021,\n",
       "            0.2966774 ,  0.43949095]])),\n",
       " 'Religious': (LogisticRegression(C=4, class_weight=None, dual=True, fit_intercept=True,\n",
       "                     intercept_scaling=1, l1_ratio=None, max_iter=100,\n",
       "                     multi_class='warn', n_jobs=None, penalty='l2',\n",
       "                     random_state=None, solver='warn', tol=0.0001, verbose=0,\n",
       "                     warm_start=False),\n",
       "  matrix([[-0.73647753, -1.54480578, -0.87713977, ...,  0.13421268,\n",
       "           -0.16182012, -0.01900657]])),\n",
       " 'Sports': (LogisticRegression(C=4, class_weight=None, dual=True, fit_intercept=True,\n",
       "                     intercept_scaling=1, l1_ratio=None, max_iter=100,\n",
       "                     multi_class='warn', n_jobs=None, penalty='l2',\n",
       "                     random_state=None, solver='warn', tol=0.0001, verbose=0,\n",
       "                     warm_start=False),\n",
       "  matrix([[-0.20193099, -0.32206305,  0.65591398, ...,  1.02353615,\n",
       "            2.60323631,  2.46042276]])),\n",
       " 'Toxic': (LogisticRegression(C=4, class_weight=None, dual=True, fit_intercept=True,\n",
       "                     intercept_scaling=1, l1_ratio=None, max_iter=100,\n",
       "                     multi_class='warn', n_jobs=None, penalty='l2',\n",
       "                     random_state=None, solver='warn', tol=0.0001, verbose=0,\n",
       "                     warm_start=False),\n",
       "  matrix([[0.10143736, 1.55752314, 2.6397716 , ..., 1.64692165, 1.35088885,\n",
       "           1.4937024 ]]))}"
      ]
     },
     "execution_count": 16,
     "metadata": {
      "tags": []
     },
     "output_type": "execute_result"
    }
   ],
   "source": [
    "models "
   ]
  },
  {
   "cell_type": "code",
   "execution_count": 17,
   "metadata": {
    "colab": {
     "base_uri": "https://localhost:8080/",
     "height": 1000
    },
    "colab_type": "code",
    "executionInfo": {
     "elapsed": 79862,
     "status": "ok",
     "timestamp": 1575857636215,
     "user": {
      "displayName": "Kaixuan Zhou",
      "photoUrl": "https://lh3.googleusercontent.com/a-/AAuE7mCKkDULUqJnBZiCB5MQ9LYGMzLJ29wuuhmDQTai=s64",
      "userId": "14372667014878541747"
     },
     "user_tz": 300
    },
    "id": "pQH8j9BdYKHQ",
    "outputId": "1039343d-ea17-4732-ea92-010479f96879"
   },
   "outputs": [
    {
     "name": "stdout",
     "output_type": "stream",
     "text": [
      "Iteration: 1\n",
      "Toxic\n",
      "\t Recall: 0.9491094147582697\n",
      "\t F1 Score: 0.9705929459280666\n",
      "\t Precision: 0.9948320413436693\n",
      "\t Accuracy: 0.990528060620412\n",
      "Information\n",
      "\t Recall: 0.845461810996369\n",
      "\t F1 Score: 0.8697180994468114\n",
      "\t Precision: 0.9036507487159879\n",
      "\t Accuracy: 0.9135685531612597\n",
      "Sports\n",
      "\t Recall: 0.8816203125234593\n",
      "\t F1 Score: 0.9166156580116497\n",
      "\t Precision: 0.9637614795142619\n",
      "\t Accuracy: 0.959033862183282\n",
      "Religious\n",
      "\t Recall: 0.9211544005857353\n",
      "\t F1 Score: 0.9331769400884479\n",
      "\t Precision: 0.9484680527050166\n",
      "\t Accuracy: 0.9438787591759413\n",
      "Advertisement\n",
      "\t Recall: 0.8927706124680551\n",
      "\t F1 Score: 0.9160422734169269\n",
      "\t Precision: 0.9460120662186918\n",
      "\t Accuracy: 0.9460099455363485\n",
      "Iteration: 2\n",
      "Toxic\n",
      "\t Recall: 0.962059620596206\n",
      "\t F1 Score: 0.9784719693549093\n",
      "\t Precision: 0.996393611540443\n",
      "\t Accuracy: 0.9933696424342884\n",
      "Information\n",
      "\t Recall: 0.8575502345908917\n",
      "\t F1 Score: 0.8782605098998173\n",
      "\t Precision: 0.9055196197555572\n",
      "\t Accuracy: 0.9183045228510538\n",
      "Sports\n",
      "\t Recall: 0.8701226434268774\n",
      "\t F1 Score: 0.907103548600015\n",
      "\t Precision: 0.9584898824333743\n",
      "\t Accuracy: 0.9542978924934881\n",
      "Religious\n",
      "\t Recall: 0.9091569327446007\n",
      "\t F1 Score: 0.923898156729482\n",
      "\t Precision: 0.943660210246325\n",
      "\t Accuracy: 0.93701160312574\n",
      "Advertisement\n",
      "\t Recall: 0.8968668972854512\n",
      "\t F1 Score: 0.920079269166403\n",
      "\t Precision: 0.9502553546415566\n",
      "\t Accuracy: 0.9469571394743074\n",
      "Iteration: 3\n",
      "Toxic\n",
      "\t Recall: 0.9546431503924853\n",
      "\t F1 Score: 0.9732825948119834\n",
      "\t Precision: 0.9939593770964472\n",
      "\t Accuracy: 0.9912384560738812\n",
      "Information\n",
      "\t Recall: 0.8589934463884862\n",
      "\t F1 Score: 0.8808898929229685\n",
      "\t Precision: 0.9092904299495012\n",
      "\t Accuracy: 0.9249348804167653\n",
      "Sports\n",
      "\t Recall: 0.8826211462080046\n",
      "\t F1 Score: 0.915909286840098\n",
      "\t Precision: 0.9597883830293008\n",
      "\t Accuracy: 0.9597442576367511\n",
      "Religious\n",
      "\t Recall: 0.9283373276479193\n",
      "\t F1 Score: 0.9395160148711683\n",
      "\t Precision: 0.9534298705149749\n",
      "\t Accuracy: 0.9490883258347147\n",
      "Advertisement\n",
      "\t Recall: 0.8922908762588548\n",
      "\t F1 Score: 0.9185688541854167\n",
      "\t Precision: 0.954657655010285\n",
      "\t Accuracy: 0.9448259531139\n",
      "Iteration: 4\n",
      "Toxic\n",
      "\t Recall: 0.9549112038848124\n",
      "\t F1 Score: 0.9735882278495914\n",
      "\t Precision: 0.9942636355260733\n",
      "\t Accuracy: 0.9919488515273502\n",
      "Information\n",
      "\t Recall: 0.8611613938820286\n",
      "\t F1 Score: 0.8841614210875605\n",
      "\t Precision: 0.9154128709961799\n",
      "\t Accuracy: 0.9218565001183993\n",
      "Sports\n",
      "\t Recall: 0.8743865959478958\n",
      "\t F1 Score: 0.9092096347249513\n",
      "\t Precision: 0.956691931586405\n",
      "\t Accuracy: 0.9542978924934881\n",
      "Religious\n",
      "\t Recall: 0.9216145909229059\n",
      "\t F1 Score: 0.9323157997650365\n",
      "\t Precision: 0.9455319260096406\n",
      "\t Accuracy: 0.9431683637224721\n",
      "Advertisement\n",
      "\t Recall: 0.8964669824463639\n",
      "\t F1 Score: 0.9205310060176222\n",
      "\t Precision: 0.9517135492179021\n",
      "\t Accuracy: 0.9488515273502249\n",
      "Iteration: 5\n",
      "Toxic\n",
      "\t Recall: 0.9468354430379746\n",
      "\t F1 Score: 0.969197152395997\n",
      "\t Precision: 0.9945736434108527\n",
      "\t Accuracy: 0.9900544636514327\n",
      "Information\n",
      "\t Recall: 0.8446178374722195\n",
      "\t F1 Score: 0.8699046347122011\n",
      "\t Precision: 0.9052814794051469\n",
      "\t Accuracy: 0.9159365380061567\n",
      "Sports\n",
      "\t Recall: 0.8967472093065182\n",
      "\t F1 Score: 0.9248353934603895\n",
      "\t Precision: 0.9602779238138517\n",
      "\t Accuracy: 0.9616386455126688\n",
      "Religious\n",
      "\t Recall: 0.9238394441159077\n",
      "\t F1 Score: 0.9342736850506823\n",
      "\t Precision: 0.9471216673233517\n",
      "\t Accuracy: 0.9445891546294104\n",
      "Advertisement\n",
      "\t Recall: 0.890698789592738\n",
      "\t F1 Score: 0.9170763385224321\n",
      "\t Precision: 0.9522883787171792\n",
      "\t Accuracy: 0.9469571394743074\n"
     ]
    }
   ],
   "source": [
    "#split into parts for cross validation\n",
    "accuracy_scores = {}\n",
    "for label in label_cols:\n",
    "    accuracy_scores[label] = []\n",
    "\n",
    "kf = KFold(n_splits=5)\n",
    "iteration = 1\n",
    "for train_index, test_index in kf.split(df):\n",
    "    print(\"Iteration:\", iteration)\n",
    "    iteration += 1\n",
    "    for model in models.keys():\n",
    "        print(model)\n",
    "        x_train, x_test = df[\"Tweet\"][train_index], df[\"Tweet\"][test_index]\n",
    "        y_train, y_test = df[model][train_index], df[model][test_index]\n",
    "        logreg = LogisticRegression(C=4.0)\n",
    "        # logreg = models[model][0]\n",
    "\n",
    "        logreg.fit(vec.fit_transform(x_train),y_train)\n",
    "        y_pred = logreg.predict(vec.transform(x_test))\n",
    "\n",
    "        #scores\n",
    "        recall = recall_score(y_test, y_pred, average='macro')\n",
    "        f1 = f1_score(y_test, y_pred, average='macro')\n",
    "        precision = precision_score(y_test, y_pred, average='macro')\n",
    "        accuracy = accuracy_score(y_test, y_pred)\n",
    "        accuracy_scores[model].append(accuracy)\n",
    "        print(\"\\t Recall:\", recall)\n",
    "        print(\"\\t F1 Score:\", f1)\n",
    "        print(\"\\t Precision:\", precision)\n",
    "        print(\"\\t Accuracy:\", accuracy)\n",
    "  "
   ]
  },
  {
   "cell_type": "code",
   "execution_count": 18,
   "metadata": {
    "colab": {
     "base_uri": "https://localhost:8080/",
     "height": 104
    },
    "colab_type": "code",
    "executionInfo": {
     "elapsed": 79852,
     "status": "ok",
     "timestamp": 1575857636216,
     "user": {
      "displayName": "Kaixuan Zhou",
      "photoUrl": "https://lh3.googleusercontent.com/a-/AAuE7mCKkDULUqJnBZiCB5MQ9LYGMzLJ29wuuhmDQTai=s64",
      "userId": "14372667014878541747"
     },
     "user_tz": 300
    },
    "id": "caWHFT9SfKLB",
    "outputId": "d701d0ef-461e-4010-964d-b87b8d3166b3"
   },
   "outputs": [
    {
     "name": "stdout",
     "output_type": "stream",
     "text": [
      "Toxic : 0.991427894861473\n",
      "Information : 0.918920198910727\n",
      "Sports : 0.9578025100639355\n",
      "Religious : 0.9435472412976557\n",
      "Advertisement : 0.9467203409898175\n"
     ]
    }
   ],
   "source": [
    "#Evaluation\n",
    "for score in accuracy_scores:\n",
    "  print(score, \":\", np.average(accuracy_scores[score]))"
   ]
  },
  {
   "cell_type": "markdown",
   "metadata": {
    "colab_type": "text",
    "id": "zY2dsB5Jfrua"
   },
   "source": [
    "# User Testing\n",
    "\n",
    "Test your own sentences"
   ]
  },
  {
   "cell_type": "code",
   "execution_count": 0,
   "metadata": {
    "colab": {},
    "colab_type": "code",
    "id": "KUwFBVXz2sPL"
   },
   "outputs": [],
   "source": [
    "vec = TfidfVectorizer(ngram_range=(1,2), tokenizer=tokenize,\n",
    "               min_df=3, max_df=0.9, strip_accents='unicode', use_idf=1,\n",
    "               smooth_idf=1, sublinear_tf=1, stop_words='english')\n",
    "trn_term_doc = vec.fit_transform(df_train[\"Tweet\"])\n",
    "test_term_doc = vec.transform(df_test[\"Tweet\"])"
   ]
  },
  {
   "cell_type": "code",
   "execution_count": 0,
   "metadata": {
    "colab": {},
    "colab_type": "code",
    "id": "1s8d-F644mIm"
   },
   "outputs": [],
   "source": [
    "def test(tweet):\n",
    "    test_data = vec.transform([tweet])\n",
    "    json = {}\n",
    "    #model predicting: 1 is in that category, 0 is not\n",
    "    for model in models.keys():\n",
    "        result = models[model][0].predict(test_data.multiply(models[model][1]))\n",
    "        json[model] = result[0]\n",
    "    return json"
   ]
  },
  {
   "cell_type": "markdown",
   "metadata": {
    "colab_type": "text",
    "id": "kxjSfpCYVYE6"
   },
   "source": [
    "Some sentences have been provided.\n",
    "\n",
    "> Results may be different depending on what partition of the output_copy.csv we use for the training data due to shuffling of the dataset.\n",
    "\n"
   ]
  },
  {
   "cell_type": "code",
   "execution_count": 21,
   "metadata": {
    "colab": {
     "base_uri": "https://localhost:8080/",
     "height": 35
    },
    "colab_type": "code",
    "executionInfo": {
     "elapsed": 81402,
     "status": "ok",
     "timestamp": 1575857637782,
     "user": {
      "displayName": "Kaixuan Zhou",
      "photoUrl": "https://lh3.googleusercontent.com/a-/AAuE7mCKkDULUqJnBZiCB5MQ9LYGMzLJ29wuuhmDQTai=s64",
      "userId": "14372667014878541747"
     },
     "user_tz": 300
    },
    "id": "4kQZ8BO94mPI",
    "outputId": "299f7f3f-bd06-41d3-f709-47ded3051676"
   },
   "outputs": [
    {
     "data": {
      "text/plain": [
       "{'Advertisement': 0, 'Information': 0, 'Religious': 0, 'Sports': 1, 'Toxic': 0}"
      ]
     },
     "execution_count": 21,
     "metadata": {
      "tags": []
     },
     "output_type": "execute_result"
    }
   ],
   "source": [
    "test(\"The Knicks scored 3-1 in the most recent game\")"
   ]
  },
  {
   "cell_type": "code",
   "execution_count": 22,
   "metadata": {
    "colab": {
     "base_uri": "https://localhost:8080/",
     "height": 35
    },
    "colab_type": "code",
    "executionInfo": {
     "elapsed": 81393,
     "status": "ok",
     "timestamp": 1575857637783,
     "user": {
      "displayName": "Kaixuan Zhou",
      "photoUrl": "https://lh3.googleusercontent.com/a-/AAuE7mCKkDULUqJnBZiCB5MQ9LYGMzLJ29wuuhmDQTai=s64",
      "userId": "14372667014878541747"
     },
     "user_tz": 300
    },
    "id": "PRnLBVIW4mV9",
    "outputId": "7fa00305-b34e-4162-a9e1-f787c7062d44"
   },
   "outputs": [
    {
     "data": {
      "text/plain": [
       "{'Advertisement': 0, 'Information': 0, 'Religious': 0, 'Sports': 0, 'Toxic': 1}"
      ]
     },
     "execution_count": 22,
     "metadata": {
      "tags": []
     },
     "output_type": "execute_result"
    }
   ],
   "source": [
    "test(\"Fuck you stupid bitch\")"
   ]
  },
  {
   "cell_type": "code",
   "execution_count": 23,
   "metadata": {
    "colab": {
     "base_uri": "https://localhost:8080/",
     "height": 35
    },
    "colab_type": "code",
    "executionInfo": {
     "elapsed": 81384,
     "status": "ok",
     "timestamp": 1575857637784,
     "user": {
      "displayName": "Kaixuan Zhou",
      "photoUrl": "https://lh3.googleusercontent.com/a-/AAuE7mCKkDULUqJnBZiCB5MQ9LYGMzLJ29wuuhmDQTai=s64",
      "userId": "14372667014878541747"
     },
     "user_tz": 300
    },
    "id": "J3-RznSM9q95",
    "outputId": "a45e2a27-9f45-414c-dbc8-16c3f3fb8039"
   },
   "outputs": [
    {
     "data": {
      "text/plain": [
       "{'Advertisement': 0, 'Information': 0, 'Religious': 0, 'Sports': 0, 'Toxic': 1}"
      ]
     },
     "execution_count": 23,
     "metadata": {
      "tags": []
     },
     "output_type": "execute_result"
    }
   ],
   "source": [
    "test(\"fuck you\")"
   ]
  },
  {
   "cell_type": "code",
   "execution_count": 24,
   "metadata": {
    "colab": {
     "base_uri": "https://localhost:8080/",
     "height": 35
    },
    "colab_type": "code",
    "executionInfo": {
     "elapsed": 81376,
     "status": "ok",
     "timestamp": 1575857637785,
     "user": {
      "displayName": "Kaixuan Zhou",
      "photoUrl": "https://lh3.googleusercontent.com/a-/AAuE7mCKkDULUqJnBZiCB5MQ9LYGMzLJ29wuuhmDQTai=s64",
      "userId": "14372667014878541747"
     },
     "user_tz": 300
    },
    "id": "hds66qqE5rNY",
    "outputId": "cd9b7166-2e90-430e-d1ee-3aebc0c7a5ea"
   },
   "outputs": [
    {
     "data": {
      "text/plain": [
       "{'Advertisement': 1, 'Information': 0, 'Religious': 0, 'Sports': 0, 'Toxic': 0}"
      ]
     },
     "execution_count": 24,
     "metadata": {
      "tags": []
     },
     "output_type": "execute_result"
    }
   ],
   "source": [
    "test(\"Buy this fabulous scarf. Get it now for only 3 payments of $5.\")"
   ]
  },
  {
   "cell_type": "code",
   "execution_count": 25,
   "metadata": {
    "colab": {
     "base_uri": "https://localhost:8080/",
     "height": 35
    },
    "colab_type": "code",
    "executionInfo": {
     "elapsed": 81367,
     "status": "ok",
     "timestamp": 1575857637785,
     "user": {
      "displayName": "Kaixuan Zhou",
      "photoUrl": "https://lh3.googleusercontent.com/a-/AAuE7mCKkDULUqJnBZiCB5MQ9LYGMzLJ29wuuhmDQTai=s64",
      "userId": "14372667014878541747"
     },
     "user_tz": 300
    },
    "id": "ceccxk_u9zSQ",
    "outputId": "21ef4e69-a68b-4936-ba32-7229c337c52a"
   },
   "outputs": [
    {
     "data": {
      "text/plain": [
       "{'Advertisement': 0, 'Information': 0, 'Religious': 0, 'Sports': 1, 'Toxic': 0}"
      ]
     },
     "execution_count": 25,
     "metadata": {
      "tags": []
     },
     "output_type": "execute_result"
    }
   ],
   "source": [
    "test(\"Next up, the Mets and their home game!\")"
   ]
  },
  {
   "cell_type": "code",
   "execution_count": 26,
   "metadata": {
    "colab": {
     "base_uri": "https://localhost:8080/",
     "height": 35
    },
    "colab_type": "code",
    "executionInfo": {
     "elapsed": 81357,
     "status": "ok",
     "timestamp": 1575857637786,
     "user": {
      "displayName": "Kaixuan Zhou",
      "photoUrl": "https://lh3.googleusercontent.com/a-/AAuE7mCKkDULUqJnBZiCB5MQ9LYGMzLJ29wuuhmDQTai=s64",
      "userId": "14372667014878541747"
     },
     "user_tz": 300
    },
    "id": "xFCAOtqd95z2",
    "outputId": "84be05e3-6a88-48bd-d79a-89a97cd4fca3"
   },
   "outputs": [
    {
     "data": {
      "text/plain": [
       "{'Advertisement': 0, 'Information': 0, 'Religious': 0, 'Sports': 0, 'Toxic': 0}"
      ]
     },
     "execution_count": 26,
     "metadata": {
      "tags": []
     },
     "output_type": "execute_result"
    }
   ],
   "source": [
    "test(\"mom, i want to eat ice cream\")"
   ]
  },
  {
   "cell_type": "code",
   "execution_count": 27,
   "metadata": {
    "colab": {
     "base_uri": "https://localhost:8080/",
     "height": 35
    },
    "colab_type": "code",
    "executionInfo": {
     "elapsed": 81348,
     "status": "ok",
     "timestamp": 1575857637786,
     "user": {
      "displayName": "Kaixuan Zhou",
      "photoUrl": "https://lh3.googleusercontent.com/a-/AAuE7mCKkDULUqJnBZiCB5MQ9LYGMzLJ29wuuhmDQTai=s64",
      "userId": "14372667014878541747"
     },
     "user_tz": 300
    },
    "id": "GGp3AB8EcQGY",
    "outputId": "0550d31d-4951-450b-c66d-701dc6c87908"
   },
   "outputs": [
    {
     "data": {
      "text/plain": [
       "{'Advertisement': 0, 'Information': 1, 'Religious': 0, 'Sports': 0, 'Toxic': 0}"
      ]
     },
     "execution_count": 27,
     "metadata": {
      "tags": []
     },
     "output_type": "execute_result"
    }
   ],
   "source": [
    "test(\"Theory says black holes like this shouldn’t get so big.\")"
   ]
  },
  {
   "cell_type": "code",
   "execution_count": 28,
   "metadata": {
    "colab": {
     "base_uri": "https://localhost:8080/",
     "height": 35
    },
    "colab_type": "code",
    "executionInfo": {
     "elapsed": 81340,
     "status": "ok",
     "timestamp": 1575857637787,
     "user": {
      "displayName": "Kaixuan Zhou",
      "photoUrl": "https://lh3.googleusercontent.com/a-/AAuE7mCKkDULUqJnBZiCB5MQ9LYGMzLJ29wuuhmDQTai=s64",
      "userId": "14372667014878541747"
     },
     "user_tz": 300
    },
    "id": "p5RqCSqmc_vg",
    "outputId": "039a3965-fa6f-4b57-be53-1bff24237fc3"
   },
   "outputs": [
    {
     "data": {
      "text/plain": [
       "{'Advertisement': 0, 'Information': 0, 'Religious': 1, 'Sports': 0, 'Toxic': 0}"
      ]
     },
     "execution_count": 28,
     "metadata": {
      "tags": []
     },
     "output_type": "execute_result"
    }
   ],
   "source": [
    "test(\"John 3:16″For God so loved the world that he gave his one and only Son, that whoever believes in him shall not perish but have eternal life.\")"
   ]
  }
 ],
 "metadata": {
  "accelerator": "GPU",
  "colab": {
   "collapsed_sections": [],
   "name": "1_Logistic_Regression.ipynb",
   "provenance": []
  },
  "kernelspec": {
   "display_name": "Python 3",
   "language": "python",
   "name": "python3"
  },
  "language_info": {
   "codemirror_mode": {
    "name": "ipython",
    "version": 3
   },
   "file_extension": ".py",
   "mimetype": "text/x-python",
   "name": "python",
   "nbconvert_exporter": "python",
   "pygments_lexer": "ipython3",
   "version": "3.7.2"
  }
 },
 "nbformat": 4,
 "nbformat_minor": 1
}
